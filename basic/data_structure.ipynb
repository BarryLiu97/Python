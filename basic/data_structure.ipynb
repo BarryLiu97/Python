{
 "cells": [
  {
   "cell_type": "markdown",
   "id": "dd988539-d570-451e-a260-37e2e52f59e7",
   "metadata": {},
   "source": [
    "# 数据类型"
   ]
  },
  {
   "cell_type": "markdown",
   "id": "780f3fad-1351-4f11-924c-10738148ae9a",
   "metadata": {},
   "source": [
    "## Number(数值)"
   ]
  },
  {
   "cell_type": "code",
   "execution_count": null,
   "id": "e7b0c4fb-213a-4cf0-b40f-31ddf9d82922",
   "metadata": {},
   "outputs": [],
   "source": []
  },
  {
   "cell_type": "markdown",
   "id": "63853b31-78cf-4374-8f9e-e9cc69668636",
   "metadata": {},
   "source": [
    "## String(字符串)"
   ]
  },
  {
   "cell_type": "code",
   "execution_count": null,
   "id": "48d67517-534d-496c-9f27-7ab572492e77",
   "metadata": {},
   "outputs": [],
   "source": []
  },
  {
   "cell_type": "markdown",
   "id": "7654442b-9c8d-4452-bd3a-48030bc31853",
   "metadata": {},
   "source": [
    "## List(列表)"
   ]
  },
  {
   "cell_type": "code",
   "execution_count": null,
   "id": "99645f82-3463-4be3-abaa-24701b067350",
   "metadata": {},
   "outputs": [],
   "source": []
  },
  {
   "cell_type": "markdown",
   "id": "77e81f4a-18fa-4b09-aed5-16974affd318",
   "metadata": {},
   "source": [
    "## Tuple(元组)"
   ]
  },
  {
   "cell_type": "code",
   "execution_count": null,
   "id": "5edba11e-70b8-46bc-842c-2958eaff842d",
   "metadata": {},
   "outputs": [],
   "source": []
  },
  {
   "cell_type": "markdown",
   "id": "c59a5f02-c03c-4ac6-a9bb-76a87047cc20",
   "metadata": {},
   "source": [
    "## Set(集合)  \n",
    "> 集合是由不重复元素组成的无序容器  \n",
    "  基本用法包括成员检测、消除重复元素  \n",
    "  集合对象支持合集、交集、差集、对称差分等数学运算  "
   ]
  },
  {
   "cell_type": "code",
   "execution_count": 8,
   "id": "973138f0-4184-41c9-af28-e39b05b6d9f2",
   "metadata": {},
   "outputs": [
    {
     "name": "stdout",
     "output_type": "stream",
     "text": [
      "{'pear', 'apple', 'banana', 'orange'}\n",
      "True\n",
      "{'b', 'd', 'c', 'a', 'r'}\n",
      "{'r', 'd'}\n"
     ]
    }
   ],
   "source": [
    "# 创建集合用花括号或 set() 函数\n",
    "# 创建空集合只能用 set()，不能用 {}，{} 创建的是空字典\n",
    "basket = {'apple', 'orange', 'apple', 'pear', 'orange', 'banana'}\n",
    "print(basket)\n",
    "print('orange' in basket)\n",
    "\n",
    "a = set('abracadabra')\n",
    "print(a)\n",
    "\n",
    "# 推导式/生成式\n",
    "a = {x for x in 'abracadabra' if x not in 'abc'}\n",
    "print(a)"
   ]
  },
  {
   "cell_type": "code",
   "execution_count": 70,
   "id": "90e674da-26a7-428e-8de3-0e2937ba8fb9",
   "metadata": {},
   "outputs": [
    {
     "name": "stdout",
     "output_type": "stream",
     "text": [
      "|  {'b', 'd', 'c', 'a', 'r'}\n",
      "|  {'c', 'a', 'b', 'd'}\n",
      "---------------------------------\n",
      "| a中去除b:  {'r'}\n",
      "| a中去除b:  {'r'}\n",
      "| b中去除a:  set()\n",
      "| b中去除a:  set()\n",
      "---------------------------------\n",
      "| 交集1:  {'c', 'a', 'b', 'd'}\n",
      "| 交集2:  {'c', 'a', 'b', 'd'}\n",
      "| 交集2:  {'c', 'a', 'b', 'd'}\n",
      "---------------------------------\n",
      "| 并集1:  {'b', 'd', 'c', 'a', 'r'}\n",
      "| 并集2:  {'b', 'd', 'c', 'a', 'r'}\n",
      "| 并集3:  {'b', 'd', 'c', 'a', 'r'}\n",
      "---------------------------------\n",
      "|  {'c', 'a', 'b', 'd'}\n",
      "---------------------------------\n",
      "| 对称差分1:  {'r'}\n",
      "| 对称差分2:  {'r'}\n",
      "| 对称差分3: {'r'}\n"
     ]
    }
   ],
   "source": [
    "a = set('abracadabra')\n",
    "b = set('abcda')\n",
    "\n",
    "print('| ', a)\n",
    "print('| ', b)\n",
    "print('---------------------------------')\n",
    "# a.difference_update(b)将差值赋值给a\n",
    "print('| a中去除b: ', a - b)\n",
    "print('| a中去除b: ', a.difference(b))\n",
    "print('| b中去除a: ', b - a)\n",
    "print('| b中去除a: ', b.difference(a))\n",
    "print('---------------------------------')\n",
    "print('| 交集1: ', a and b)\n",
    "print('| 交集2: ', a.intersection(b))\n",
    "print('| 交集2: ', a & b)\n",
    "print('---------------------------------')\n",
    "print('| 并集1: ', a.union(b))\n",
    "print('| 并集2: ', a or b)\n",
    "print('| 并集3: ', a | b)\n",
    "print('---------------------------------')\n",
    "# intersection_update求出的交集赋值给a\n",
    "a.intersection_update(b)\n",
    "print('| ', a)\n",
    "print('---------------------------------')\n",
    "a = set('abracadabra')\n",
    "b = set('abcda')\n",
    "# 对称差集：去掉两个集合共同部分的元素集合\n",
    "print('| 对称差分1: ', a.symmetric_difference(b))\n",
    "print('| 对称差分2: ', a ^ b)\n",
    "a.symmetric_difference_update(b)\n",
    "print('| 对称差分3:', a)"
   ]
  },
  {
   "cell_type": "code",
   "execution_count": 65,
   "id": "14a6e7cc-2d4e-4662-a183-97e38b105c4c",
   "metadata": {},
   "outputs": [
    {
     "name": "stdout",
     "output_type": "stream",
     "text": [
      "{'b', 'd', 'c', 'a', 'r'} {'c', 'a', 'b', 'd'}\n",
      "a是b的母集:  True\n",
      "b是a的子集:  True\n",
      "a与b合并:  {'r'}\n",
      "{'r'}\n"
     ]
    }
   ],
   "source": [
    "a = set('abracadabra')\n",
    "b = set('abcda')\n",
    "print(a, b)\n",
    "\n",
    "# a与b是否含有相同元素，无交集则返回False\n",
    "a.isdisjoint(b)\n",
    "\n",
    "# a是否是b的母集\n",
    "print('a是b的母集: ', a.issuperset(b))\n",
    "\n",
    "# b是否是a的子集\n",
    "print('b是a的子集: ', b.issubset(a))\n"
   ]
  },
  {
   "cell_type": "code",
   "execution_count": 62,
   "id": "02808d94-90bc-4bcc-a041-3ab5037c33dd",
   "metadata": {},
   "outputs": [
    {
     "name": "stdout",
     "output_type": "stream",
     "text": [
      "{'b', 'd', 'c', 'a', 'r'}\n",
      "{'b', 'd', 'c', 'a', 'r', 'zk'}\n",
      "{'b', 'd', 'c', 'k', 'a', 'r', 'zk', 'z'}\n"
     ]
    }
   ],
   "source": [
    "# set集合添加元素\n",
    "a = set('abracadabra')\n",
    "print(a)\n",
    "\n",
    "a.add('zk')\n",
    "print(a)\n",
    "\n",
    "# 使用update会将添加的元素进行拆分\n",
    "a.update('zk')\n",
    "print(a)"
   ]
  },
  {
   "cell_type": "code",
   "execution_count": 63,
   "id": "8b6343d6-d11e-44d3-bd15-0fa110adfcad",
   "metadata": {},
   "outputs": [
    {
     "name": "stdout",
     "output_type": "stream",
     "text": [
      "set()\n"
     ]
    }
   ],
   "source": [
    "# 清空集合\n",
    "\n",
    "# clear清空，变为空集合，变量仍在\n",
    "a.clear()\n",
    "print(a)\n",
    "\n",
    "# del直接删除变量\n",
    "del a"
   ]
  },
  {
   "cell_type": "code",
   "execution_count": 64,
   "id": "03fe88b1-5eb1-4a56-b897-e9d1ae0b21a3",
   "metadata": {},
   "outputs": [
    {
     "name": "stdout",
     "output_type": "stream",
     "text": [
      "frozenset({'b', 'd', 'c', 'e', 'a', 's'})\n"
     ]
    },
    {
     "ename": "AttributeError",
     "evalue": "'frozenset' object has no attribute 'pop'",
     "output_type": "error",
     "traceback": [
      "\u001b[0;31m---------------------------------------------------------------------------\u001b[0m\n\u001b[0;31mAttributeError\u001b[0m                            Traceback (most recent call last)",
      "File \u001b[0;34md:\\programdata\\miniconda3\\lib\\site-packages\\IPython\\core\\interactiveshell.py\u001b[0m, in \u001b[0;32mrun_code\u001b[0m:\nLine \u001b[0;34m3441\u001b[0m:  exec(code_obj, \u001b[36mself\u001b[39;49;00m.user_global_ns, \u001b[36mself\u001b[39;49;00m.user_ns)\n",
      "In  \u001b[0;34m[64]\u001b[0m:\nLine \u001b[0;34m4\u001b[0m:     a.pop()\n",
      "\u001b[0;31mAttributeError\u001b[0m: 'frozenset' object has no attribute 'pop'\n\u001b[0;31m---------------------------------------------------------------------------\u001b[0m"
     ]
    }
   ],
   "source": [
    "# 不可变集合frozenset，不可增删改查，但是可求交并差集，与set方法一致\n",
    "a = frozenset('abcdasea')\n",
    "print(a)\n",
    "a.pop()"
   ]
  },
  {
   "cell_type": "code",
   "execution_count": 41,
   "id": "73dd63d7-2851-4bf1-a864-8829c8108af5",
   "metadata": {},
   "outputs": [
    {
     "name": "stdout",
     "output_type": "stream",
     "text": [
      "{'b', 'd', 'c', 'a', 'r'}\n",
      "{'b', 'd', 'c', 'r'}\n",
      "{'d', 'c', 'r'}\n",
      "弹出 d \n",
      " {'c', 'r'}\n"
     ]
    }
   ],
   "source": [
    "# set集合删除元素\n",
    "a = set('abracadabra')\n",
    "print(a)\n",
    "\n",
    "# 使用remove，若元素不存在会报错\n",
    "a.remove('a')\n",
    "print(a)\n",
    "# a.remove('123')\n",
    "\n",
    "# 使用discard，若元素不存在不会报错\n",
    "a.discard('b')\n",
    "print(a)\n",
    "a.discard('123')\n",
    "\n",
    "# 使用pop，弹出集合中的第一个元素并返回\n",
    "item = a.pop()\n",
    "print('弹出', item, '\\n', a)"
   ]
  },
  {
   "cell_type": "markdown",
   "id": "286f31c0-ba28-477a-a926-fb6b22b80999",
   "metadata": {},
   "source": [
    "## Dictionary(字典)"
   ]
  },
  {
   "cell_type": "code",
   "execution_count": 5,
   "id": "48f546f6-00f3-4e68-a626-26e6b002a4bc",
   "metadata": {},
   "outputs": [
    {
     "name": "stdout",
     "output_type": "stream",
     "text": [
      "{'jack': 4098, 'sape': 4139}\n",
      "{'jack': 4098, 'sape': 4139, 'guido': 4127}\n"
     ]
    }
   ],
   "source": [
    "# 字典赋值\n",
    "tel = {'jack': 4098, 'sape': 4139}\n",
    "print(tel)\n",
    "tel['guido'] = 4127\n",
    "print(tel)"
   ]
  },
  {
   "cell_type": "code",
   "execution_count": 6,
   "id": "2c25af05-a163-4ac7-ad52-8b7c4b9f9b16",
   "metadata": {},
   "outputs": [
    {
     "name": "stdout",
     "output_type": "stream",
     "text": [
      "{'jack': 4098, 'guido': 4127}\n"
     ]
    }
   ],
   "source": [
    "# 删除字典元素\n",
    "del tel['sape']\n",
    "print(tel)"
   ]
  },
  {
   "cell_type": "code",
   "execution_count": 9,
   "id": "ef6439b3-fa4b-445e-b2ee-7d3e51583199",
   "metadata": {},
   "outputs": [
    {
     "name": "stdout",
     "output_type": "stream",
     "text": [
      "['jack', 'guido']\n"
     ]
    }
   ],
   "source": [
    "print(list(tel))"
   ]
  },
  {
   "cell_type": "code",
   "execution_count": 10,
   "id": "7467d76a-8dd6-4b30-828b-669fe0795e1f",
   "metadata": {},
   "outputs": [
    {
     "name": "stdout",
     "output_type": "stream",
     "text": [
      "['guido', 'jack']\n"
     ]
    }
   ],
   "source": [
    "# 对键进行排序\n",
    "print(sorted(tel))"
   ]
  },
  {
   "cell_type": "code",
   "execution_count": 12,
   "id": "79c1dc44-503c-4ca0-8af4-dc3b65156ed3",
   "metadata": {},
   "outputs": [
    {
     "data": {
      "text/plain": [
       "{'sape': 4139, 'guido': 4127, 'jack': 4098}"
      ]
     },
     "execution_count": 12,
     "metadata": {},
     "output_type": "execute_result"
    }
   ],
   "source": [
    "# 直接用键值对序列创建字典\n",
    "dict([('sape', 4139), ('guido', 4127), ('jack', 4098)])"
   ]
  },
  {
   "cell_type": "code",
   "execution_count": 13,
   "id": "4e846b52-efb1-4be5-96a6-c7766ebac802",
   "metadata": {},
   "outputs": [
    {
     "data": {
      "text/plain": [
       "{2: 4, 4: 16, 6: 36}"
      ]
     },
     "execution_count": 13,
     "metadata": {},
     "output_type": "execute_result"
    }
   ],
   "source": [
    "# 字典推导式\n",
    "{x: x**2 for x in (2, 4, 6)}"
   ]
  },
  {
   "cell_type": "code",
   "execution_count": 20,
   "id": "ed520c63-6f76-4cc0-b67a-756300c656b7",
   "metadata": {},
   "outputs": [
    {
     "name": "stdout",
     "output_type": "stream",
     "text": [
      "gallahad    the pure\n",
      "robin    the brave\n"
     ]
    }
   ],
   "source": [
    "# 用 items() 方法可同时取出键和对应的值\n",
    "knights = {'gallahad': 'the pure', 'robin': 'the brave'}\n",
    "for k, v in knights.items():\n",
    "    print(k, '  ', v)"
   ]
  },
  {
   "cell_type": "code",
   "execution_count": 21,
   "id": "0bd19dcd-a957-4800-b580-d736e2c32009",
   "metadata": {},
   "outputs": [
    {
     "name": "stdout",
     "output_type": "stream",
     "text": [
      "0: gallahad\n",
      "1: robin\n"
     ]
    }
   ],
   "source": [
    "# 用 enumerate() 函数可以同时取出位置索引和对应的值\n",
    "for idx, value in enumerate(knights):\n",
    "    print(str(idx) + ': ' + str(value))"
   ]
  },
  {
   "cell_type": "code",
   "execution_count": 24,
   "id": "e2ef065b-fe46-4029-9030-ddd7d80e00f2",
   "metadata": {},
   "outputs": [
    {
     "name": "stdout",
     "output_type": "stream",
     "text": [
      "What is your name?  It is lancelot.\n",
      "What is your quest?  It is the holy grail.\n",
      "What is your favorite color?  It is blue.\n"
     ]
    }
   ],
   "source": [
    "# 同时循环两个或多个序列时，用 zip() 函数可以将其内的元素一一匹配：\n",
    "questions = ['name', 'quest', 'favorite color']\n",
    "answers = ['lancelot', 'the holy grail', 'blue']\n",
    "for q, a in zip(questions, answers):\n",
    "    print('What is your {0}?  It is {1}.'.format(q, a))"
   ]
  },
  {
   "cell_type": "code",
   "execution_count": 26,
   "id": "273cec3c-eb58-4888-874e-9dd04fce011b",
   "metadata": {},
   "outputs": [
    {
     "name": "stdout",
     "output_type": "stream",
     "text": [
      "{'name': 'lancelot', 'quest': 'the holy grail', 'favorite color': 'blue'}\n"
     ]
    }
   ],
   "source": [
    "# 用zip生成字典\n",
    "questions = ['name', 'quest', 'favorite color']\n",
    "answers = ['lancelot', 'the holy grail', 'blue']\n",
    "new_dict = dict(zip(questions, answers))\n",
    "print(new_dict)"
   ]
  },
  {
   "cell_type": "code",
   "execution_count": 28,
   "id": "a6f4409a-82f1-440a-9645-bebbea2172ca",
   "metadata": {},
   "outputs": [
    {
     "name": "stdout",
     "output_type": "stream",
     "text": [
      "apple\n",
      "banana\n",
      "orange\n",
      "pear\n"
     ]
    }
   ],
   "source": [
    "# 使用 set()去除序列中的重复元素。使用 sorted() 加 set() 则按排序后的顺序，循环遍历序列中的唯一元素\n",
    "basket = ['apple', 'orange', 'apple', 'pear', 'orange', 'banana']\n",
    "for f in sorted(set(basket)):\n",
    "    print(f)"
   ]
  },
  {
   "cell_type": "markdown",
   "id": "28d21c0f-9104-4e95-a902-9e9329005cc2",
   "metadata": {},
   "source": [
    "### 字典的增删改查"
   ]
  },
  {
   "cell_type": "code",
   "execution_count": 33,
   "id": "f226f596-216e-4121-828f-bc80a0a7053a",
   "metadata": {},
   "outputs": [
    {
     "name": "stdout",
     "output_type": "stream",
     "text": [
      "{'jack': 4098, 'sape': 4139}\n",
      "{'jack': 4098, 'sape': 4139, 'guido': 4127}\n"
     ]
    }
   ],
   "source": [
    "tel = {'jack': 4098, 'sape': 4139}\n",
    "print(tel)\n",
    "\n",
    "# 增\n",
    "tel['guido'] = 4127\n",
    "print(tel)"
   ]
  },
  {
   "cell_type": "code",
   "execution_count": 34,
   "id": "86bf85aa-1634-432b-9aa6-cf18823cd2f0",
   "metadata": {},
   "outputs": [
    {
     "name": "stdout",
     "output_type": "stream",
     "text": [
      "{'jack': 4098, 'sape': 4139}\n",
      "{'sape': 4139}\n"
     ]
    }
   ],
   "source": [
    "# 删除\n",
    "del tel['guido']\n",
    "print(tel)\n",
    "\n",
    "tel.pop('jack')\n",
    "print(tel)"
   ]
  },
  {
   "cell_type": "code",
   "execution_count": 35,
   "id": "6ecf6d87-3c05-4fd9-8605-ed527aa2bc72",
   "metadata": {},
   "outputs": [
    {
     "name": "stdout",
     "output_type": "stream",
     "text": [
      "{'jack': 4098, 'sape': 4139, 'guido': 4127}\n"
     ]
    }
   ],
   "source": [
    "tel = {'jack': 4098, 'sape': 4139, 'guido': 4127}\n",
    "print(tel)"
   ]
  },
  {
   "cell_type": "code",
   "execution_count": 5,
   "id": "acc95a9b-e235-49f9-829d-97722fe9bda4",
   "metadata": {},
   "outputs": [
    {
     "name": "stdout",
     "output_type": "stream",
     "text": [
      "{'name': 'wade', 'age': '33', 'work': 'basketplayer'}\n"
     ]
    }
   ],
   "source": [
    "# 改\n",
    "info ={'name':'jamnes','age':'32','work':'basketplayer'}\n",
    "info2 = {'name':'wade','age':'33','work':'basketplayer'}\n",
    "info.update(info2)\n",
    "print(info)"
   ]
  },
  {
   "cell_type": "code",
   "execution_count": 6,
   "id": "8f2fd772-f399-4351-98d5-90f270a34822",
   "metadata": {},
   "outputs": [
    {
     "name": "stdout",
     "output_type": "stream",
     "text": [
      "4098\n",
      "None\n"
     ]
    }
   ],
   "source": [
    "# 查找\n",
    "# 通过给定的key，查找对应的value，如果给定的可以在字典中无，则返回None\n",
    "tel = {'jack': 4098, 'sape': 4139, 'guido': 4127}\n",
    "result = tel.get('jack')\n",
    "print(result)\n",
    "\n",
    "result2 = tel.get('mary')\n",
    "print(result2)"
   ]
  },
  {
   "cell_type": "code",
   "execution_count": 14,
   "id": "2cdc13f5-936b-4d3c-91dc-bf73943b8169",
   "metadata": {},
   "outputs": [
    {
     "name": "stdout",
     "output_type": "stream",
     "text": [
      "dict_keys(['jack', 'sape', 'guido']) <class 'dict_keys'>\n",
      "dict_values([4098, 4139, 4127]) <class 'dict_values'>\n",
      "dict_items([('jack', 4098), ('sape', 4139), ('guido', 4127)]) <class 'dict_items'>\n"
     ]
    }
   ],
   "source": [
    "# keys():以列表（list）返回字典中的所有键（key）\n",
    "# 字典是无序的，返回的不是定义字典的顺序\n",
    "\n",
    "# values():以列表（list）返回字典中的所有值\n",
    "# 列表的顺序跟keys()返回的列表顺序一一对应\n",
    "\n",
    "# items():返回可遍历的(键, 值) 元组数组\n",
    "# 包含了dictionary的所有数据\n",
    "tel = {'jack': 4098, 'sape': 4139, 'guido': 4127}\n",
    "keys = tel.keys()\n",
    "values = tel.values()\n",
    "items = tel.items()\n",
    "print(keys, type(keys))\n",
    "print(values, type(values))\n",
    "print(items, type(items))"
   ]
  },
  {
   "cell_type": "code",
   "execution_count": 17,
   "id": "2f91bc6d-5c57-45d8-b57e-5cd8e09dd0a5",
   "metadata": {},
   "outputs": [
    {
     "name": "stdout",
     "output_type": "stream",
     "text": [
      "jack: 4098\n",
      "sape: 4139\n",
      "guido: 4127\n"
     ]
    }
   ],
   "source": [
    "# 对于items一般遍历加拆包\n",
    "for key, value in tel.items():\n",
    "    print(key + ': ' + str(value))"
   ]
  }
 ],
 "metadata": {
  "kernelspec": {
   "display_name": "Python 3.8 (XPython)",
   "language": "python",
   "name": "xpython"
  },
  "language_info": {
   "file_extension": ".py",
   "mimetype": "text/x-python",
   "name": "python",
   "version": "3.8.10"
  },
  "widgets": {
   "application/vnd.jupyter.widget-state+json": {
    "state": {},
    "version_major": 2,
    "version_minor": 0
   }
  }
 },
 "nbformat": 4,
 "nbformat_minor": 5
}
