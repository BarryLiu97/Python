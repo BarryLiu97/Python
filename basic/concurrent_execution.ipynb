{
 "cells": [
  {
   "attachments": {},
   "cell_type": "markdown",
   "metadata": {},
   "source": [
    "# Concurrent Execution  \n",
    "\n",
    "## Abstraction\n",
    "The execution of a concurrent program consists of multiple processes active at the same time. \n",
    "\n",
    "Each process is the execution of a sequential program. A process progresses by submitting a sequence of instructions to a processor for execution.  \n",
    "\n",
    "If the computer has multiple processors then instructions from a number of processes, equal to the number of physical processors, can be executed at the same time. This is sometimes referred to as parallel or real concurrent execution.   \n",
    "\n",
    "However, it is usual to have more active processes than processors. In this case, the available processors are switched between processes.\n",
    "\n",
    "## Reference \n",
    "\n",
    "1. https://docs.python.org/3/library/concurrency.html\n",
    "2. https://bbs.huaweicloud.com/blogs/344722\n",
    "3. https://cloud.tencent.com/developer/article/1806245"
   ]
  },
  {
   "cell_type": "markdown",
   "metadata": {},
   "source": []
  },
  {
   "attachments": {},
   "cell_type": "markdown",
   "metadata": {},
   "source": [
    "## 正文开始"
   ]
  },
  {
   "attachments": {},
   "cell_type": "markdown",
   "metadata": {},
   "source": [
    "### 并发编程目的\n",
    "提高**代码执行效率**，**提高CPU使用效率**\n",
    "\n",
    "### 可以使用的技术\n",
    "多线程、多进程与写协程\n",
    "\n",
    "### 什么是进程和线程？\n",
    "可以使用如下类比：\n",
    "1. 一个**工厂**，至少有一个**车间**，一个车间中至少有一个**工人**，最终是**工人**在工作。\n",
    "2. 一个**程序**，至少有一个**进程**，一个进程中至少有一个**线程**，最终是**线程**在工作。"
   ]
  },
  {
   "cell_type": "code",
   "execution_count": null,
   "metadata": {},
   "outputs": [],
   "source": []
  }
 ],
 "metadata": {
  "kernelspec": {
   "display_name": "learn",
   "language": "python",
   "name": "python3"
  },
  "language_info": {
   "codemirror_mode": {
    "name": "ipython",
    "version": 3
   },
   "file_extension": ".py",
   "mimetype": "text/x-python",
   "name": "python",
   "nbconvert_exporter": "python",
   "pygments_lexer": "ipython3",
   "version": "3.7.12"
  },
  "orig_nbformat": 4,
  "vscode": {
   "interpreter": {
    "hash": "a5b8923f0ad3f944c304f05a221191188746089cb0a66207070d91c27aa30e32"
   }
  }
 },
 "nbformat": 4,
 "nbformat_minor": 2
}
