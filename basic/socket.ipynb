{
 "cells": [
  {
   "attachments": {},
   "cell_type": "markdown",
   "metadata": {},
   "source": [
    "# Socket  \n",
    "\n",
    "## Abstraction\n",
    "\n",
    "## Reference \n",
    "\n",
    "1. https://www.cnblogs.com/wupeiqi/articles/5549192.html"
   ]
  },
  {
   "cell_type": "markdown",
   "metadata": {},
   "source": []
  }
 ],
 "metadata": {
  "kernelspec": {
   "display_name": "learn",
   "language": "python",
   "name": "python3"
  },
  "language_info": {
   "name": "python",
   "version": "3.7.12 | packaged by conda-forge | (default, Oct 26 2021, 05:35:01) [MSC v.1916 64 bit (AMD64)]"
  },
  "orig_nbformat": 4,
  "vscode": {
   "interpreter": {
    "hash": "a5b8923f0ad3f944c304f05a221191188746089cb0a66207070d91c27aa30e32"
   }
  }
 },
 "nbformat": 4,
 "nbformat_minor": 2
}
