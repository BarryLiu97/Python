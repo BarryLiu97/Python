{
  "nbformat": 4,
  "nbformat_minor": 0,
  "metadata": {
    "colab": {
      "name": "numpy_exp.ipynb",
      "provenance": [],
      "authorship_tag": "ABX9TyNNUBsQxucSUh/JMfTyV0nX",
      "include_colab_link": true
    },
    "kernelspec": {
      "name": "python3",
      "display_name": "Python 3"
    }
  },
  "cells": [
    {
      "cell_type": "markdown",
      "metadata": {
        "id": "view-in-github",
        "colab_type": "text"
      },
      "source": [
        "<a href=\"https://colab.research.google.com/github/BarryLiu-97/Python/blob/master/numpy_exp.ipynb\" target=\"_parent\"><img src=\"https://colab.research.google.com/assets/colab-badge.svg\" alt=\"Open In Colab\"/></a>"
      ]
    },
    {
      "cell_type": "code",
      "metadata": {
        "id": "kwhO4kBC0O7K",
        "colab_type": "code",
        "colab": {}
      },
      "source": [
        "import numpy as np"
      ],
      "execution_count": 0,
      "outputs": []
    },
    {
      "cell_type": "markdown",
      "metadata": {
        "id": "bBsAiUpv8Zl6",
        "colab_type": "text"
      },
      "source": [
        "导入numpy模块"
      ]
    },
    {
      "cell_type": "code",
      "metadata": {
        "id": "JMCxKgIq8iVx",
        "colab_type": "code",
        "colab": {
          "base_uri": "https://localhost:8080/",
          "height": 101
        },
        "outputId": "c089349a-345c-4cd8-9e20-97f4e3416b33"
      },
      "source": [
        "array = np.array([[1,2,3],                \n",
        "          [2,3,4]])   #创建numpy矩阵\n",
        "print(array)\n",
        "print('dimension:', array.ndim)  #矩阵维度\n",
        "print('shape:', array.shape)   #矩阵形状\n",
        "print('size', array.size)     #矩阵大小"
      ],
      "execution_count": 136,
      "outputs": [
        {
          "output_type": "stream",
          "text": [
            "[[1 2 3]\n",
            " [2 3 4]]\n",
            "dimension: 2\n",
            "shape: (2, 3)\n",
            "size 6\n"
          ],
          "name": "stdout"
        }
      ]
    },
    {
      "cell_type": "code",
      "metadata": {
        "id": "HYsTLTyJgZtk",
        "colab_type": "code",
        "colab": {
          "base_uri": "https://localhost:8080/",
          "height": 34
        },
        "outputId": "65f70700-495a-4044-cc5f-40a483a6f061"
      },
      "source": [
        "arr_0 = np.array([2,3,4], dtype=np.int32) \n",
        "print(arr_0.dtype)"
      ],
      "execution_count": 137,
      "outputs": [
        {
          "output_type": "stream",
          "text": [
            "int32\n"
          ],
          "name": "stdout"
        }
      ]
    },
    {
      "cell_type": "markdown",
      "metadata": {
        "id": "BpBMFzpog_IT",
        "colab_type": "text"
      },
      "source": [
        "dtype:int 默认64位 float 默认64位\n",
        "   int16 int32 float16 float32"
      ]
    },
    {
      "cell_type": "code",
      "metadata": {
        "id": "k0rmjH3Fhha_",
        "colab_type": "code",
        "colab": {
          "base_uri": "https://localhost:8080/",
          "height": 67
        },
        "outputId": "a4810142-365b-4a74-f374-7e96b0647783"
      },
      "source": [
        "zero_matrix = np.zeros((3,5))\n",
        "print(zero_matrix)"
      ],
      "execution_count": 138,
      "outputs": [
        {
          "output_type": "stream",
          "text": [
            "[[0. 0. 0. 0. 0.]\n",
            " [0. 0. 0. 0. 0.]\n",
            " [0. 0. 0. 0. 0.]]\n"
          ],
          "name": "stdout"
        }
      ]
    },
    {
      "cell_type": "markdown",
      "metadata": {
        "id": "hE9IYQymipVL",
        "colab_type": "text"
      },
      "source": [
        "创建3*5的元素都为0的矩阵"
      ]
    },
    {
      "cell_type": "code",
      "metadata": {
        "id": "BxrHzcnDh9Cy",
        "colab_type": "code",
        "colab": {
          "base_uri": "https://localhost:8080/",
          "height": 67
        },
        "outputId": "abee5a23-cb50-4e23-e99f-104eef6a030d"
      },
      "source": [
        "one_matrix = np.ones((3,5), dtype = np.int16)\n",
        "print(one_matrix)"
      ],
      "execution_count": 139,
      "outputs": [
        {
          "output_type": "stream",
          "text": [
            "[[1 1 1 1 1]\n",
            " [1 1 1 1 1]\n",
            " [1 1 1 1 1]]\n"
          ],
          "name": "stdout"
        }
      ]
    },
    {
      "cell_type": "markdown",
      "metadata": {
        "id": "vVGQqbehii7q",
        "colab_type": "text"
      },
      "source": [
        "创建3*5的元素都为1的矩阵"
      ]
    },
    {
      "cell_type": "code",
      "metadata": {
        "id": "fVOZUTodkxgY",
        "colab_type": "code",
        "colab": {
          "base_uri": "https://localhost:8080/",
          "height": 118
        },
        "outputId": "71fa089d-6c2d-4c59-c8b3-566a82e28882"
      },
      "source": [
        "empty_matrix = np.empty((3,6))\n",
        "print(empty_matrix)"
      ],
      "execution_count": 140,
      "outputs": [
        {
          "output_type": "stream",
          "text": [
            "[[2.58147324e-316 2.14321575e-312 2.35541533e-312 1.48539705e-312\n",
            "  2.48273508e-312 2.12199579e-312]\n",
            " [2.41907520e-312 2.35541533e-312 8.48798317e-313 2.05833592e-312\n",
            "  2.18565567e-312 9.33678149e-313]\n",
            " [8.91238232e-313 2.27053550e-312 2.05833592e-312 2.18565567e-312\n",
            "  8.70018275e-313 6.95003478e-310]]\n"
          ],
          "name": "stdout"
        }
      ]
    },
    {
      "cell_type": "markdown",
      "metadata": {
        "id": "t4sAxkiLisVx",
        "colab_type": "text"
      },
      "source": [
        "创建3*5的元素为空的矩阵，其实生成的是十分接近于0的元素不懂为什么用Colab时候矩阵大小设置为3×5生成的是元素为1的矩阵，但是用Spyder等还是OK的。"
      ]
    },
    {
      "cell_type": "code",
      "metadata": {
        "id": "xtrLt_O_iKNj",
        "colab_type": "code",
        "colab": {
          "base_uri": "https://localhost:8080/",
          "height": 34
        },
        "outputId": "28e434b4-ba12-4357-96f3-e5fd0f56609a"
      },
      "source": [
        "range_matrix = np.arange(10,20,2)\n",
        "print(range_matrix)"
      ],
      "execution_count": 141,
      "outputs": [
        {
          "output_type": "stream",
          "text": [
            "[10 12 14 16 18]\n"
          ],
          "name": "stdout"
        }
      ]
    },
    {
      "cell_type": "code",
      "metadata": {
        "id": "a5PQSM_PiX9l",
        "colab_type": "code",
        "colab": {
          "base_uri": "https://localhost:8080/",
          "height": 67
        },
        "outputId": "38b537b9-957c-4689-e20a-0c338d47f389"
      },
      "source": [
        "range_matrix_2 = np.arange(12).reshape((3,4))\n",
        "print(range_matrix_2)"
      ],
      "execution_count": 142,
      "outputs": [
        {
          "output_type": "stream",
          "text": [
            "[[ 0  1  2  3]\n",
            " [ 4  5  6  7]\n",
            " [ 8  9 10 11]]\n"
          ],
          "name": "stdout"
        }
      ]
    },
    {
      "cell_type": "code",
      "metadata": {
        "id": "aN51uzgenKi9",
        "colab_type": "code",
        "colab": {
          "base_uri": "https://localhost:8080/",
          "height": 34
        },
        "outputId": "464c324c-b78d-496b-e295-f2066affa02d"
      },
      "source": [
        "line_matrix = np.linspace(1,10,5, dtype = np.float32)\n",
        "print(line_matrix)"
      ],
      "execution_count": 143,
      "outputs": [
        {
          "output_type": "stream",
          "text": [
            "[ 1.    3.25  5.5   7.75 10.  ]\n"
          ],
          "name": "stdout"
        }
      ]
    },
    {
      "cell_type": "markdown",
      "metadata": {
        "id": "fV0S_L22oB46",
        "colab_type": "text"
      },
      "source": [
        "生成一个线段，起始为1，终止为10，一共生成5个点"
      ]
    },
    {
      "cell_type": "code",
      "metadata": {
        "id": "T741150zoP99",
        "colab_type": "code",
        "colab": {
          "base_uri": "https://localhost:8080/",
          "height": 101
        },
        "outputId": "af185c94-b69a-464b-f9cb-baabe1fde46f"
      },
      "source": [
        "a = np.array([10,20,30,40])\n",
        "b = np.arange(4)\n",
        "c = a + b\n",
        "print(c)\n",
        "d = a - b\n",
        "print(d)\n",
        "e = b**2\n",
        "print(e)\n",
        "f = 10*np.sin(a)  #cos、tan同样形式\n",
        "print(f)\n",
        "g = b < 3  # 同理 > 和 ==\n",
        "print(g)"
      ],
      "execution_count": 144,
      "outputs": [
        {
          "output_type": "stream",
          "text": [
            "[10 21 32 43]\n",
            "[10 19 28 37]\n",
            "[0 1 4 9]\n",
            "[-5.44021111  9.12945251 -9.88031624  7.4511316 ]\n",
            "[ True  True  True False]\n"
          ],
          "name": "stdout"
        }
      ]
    },
    {
      "cell_type": "code",
      "metadata": {
        "id": "hXxwauynug5u",
        "colab_type": "code",
        "colab": {
          "base_uri": "https://localhost:8080/",
          "height": 84
        },
        "outputId": "c0cba72d-c35c-4028-cf45-d255482e2ef8"
      },
      "source": [
        "arr_1 = np.array([[1,1],[0,1]])\n",
        "arr_2 = np.arange(4).reshape((2,2))\n",
        "arr_3 = arr_1 * arr_2      #对应位置元素相乘\n",
        "arr_4_dot = np.dot(arr_1,arr_2)  #矩阵乘法\n",
        "print(arr_3)    \n",
        "print(arr_4_dot)  "
      ],
      "execution_count": 145,
      "outputs": [
        {
          "output_type": "stream",
          "text": [
            "[[0 1]\n",
            " [0 3]]\n",
            "[[2 4]\n",
            " [2 3]]\n"
          ],
          "name": "stdout"
        }
      ]
    },
    {
      "cell_type": "code",
      "metadata": {
        "id": "ul09RXbhvfGV",
        "colab_type": "code",
        "colab": {
          "base_uri": "https://localhost:8080/",
          "height": 50
        },
        "outputId": "12f6f0e1-8f69-492a-93d0-01366b71ebfb"
      },
      "source": [
        "arr_5_dot = arr_1.dot(arr_2)  #矩阵相乘另一种写法\n",
        "print(arr_5_dot)"
      ],
      "execution_count": 146,
      "outputs": [
        {
          "output_type": "stream",
          "text": [
            "[[2 4]\n",
            " [2 3]]\n"
          ],
          "name": "stdout"
        }
      ]
    },
    {
      "cell_type": "code",
      "metadata": {
        "id": "EEYXnOpmvuoF",
        "colab_type": "code",
        "colab": {
          "base_uri": "https://localhost:8080/",
          "height": 118
        },
        "outputId": "af2dd711-dba5-4db3-ae31-b182da63da6f"
      },
      "source": [
        "arr_6 = np.random.random((2,4))\n",
        "print(arr_6)\n",
        "print(np.sum(arr_6))\n",
        "print(np.min(arr_6))\n",
        "print(np.max(arr_6))\n",
        "print(np.sum(arr_6,axis=0))  #axis= 0按列 1按行"
      ],
      "execution_count": 147,
      "outputs": [
        {
          "output_type": "stream",
          "text": [
            "[[0.11640608 0.19899625 0.55286632 0.50931998]\n",
            " [0.98216205 0.80742526 0.7536469  0.04059441]]\n",
            "3.9614172490989032\n",
            "0.04059440799848002\n",
            "0.982162045731553\n",
            "[1.09856813 1.00642151 1.30651322 0.54991439]\n"
          ],
          "name": "stdout"
        }
      ]
    },
    {
      "cell_type": "code",
      "metadata": {
        "id": "Jl2bDXqowyH2",
        "colab_type": "code",
        "colab": {
          "base_uri": "https://localhost:8080/",
          "height": 504
        },
        "outputId": "f0c6c81c-0867-4ecf-e218-59006540e2ad"
      },
      "source": [
        "arr_7 = np.arange(14,2,-1).reshape((3,4))\n",
        "print(arr_7)\n",
        "print('最小值：', np.argmin(arr_7))   #最小值\n",
        "print('最大值：', np.argmax(arr_7))   #最大值\n",
        "print('按行计算均值：', np.mean(arr_7, axis=1))    #均值\n",
        "print('均值：', np.average(arr_7))  #均值\n",
        "print('均值：', arr_7.mean())     #均值\n",
        "print('中位数：', np.median(arr_7))   #中位数\n",
        "print(np.cumsum(arr_7))\n",
        "print('查找非零元素：', np.nonzero(arr_7))   #输出非0元素的位置，前者为行号后者为列号\n",
        "print('排序：', np.sort(arr_7))     #元素排序\n",
        "print('转置：', np.transpose(arr_7))  #转置\n",
        "print('转置：', arr_7.T)        #转置\n",
        "print('转置并做矩阵乘法：', (arr_7.T).dot(arr_7))\n",
        "print(np.clip(arr_7,5,9))        #小于5的数设为5，大于9的数设为9，其余不变"
      ],
      "execution_count": 148,
      "outputs": [
        {
          "output_type": "stream",
          "text": [
            "[[14 13 12 11]\n",
            " [10  9  8  7]\n",
            " [ 6  5  4  3]]\n",
            "最小值： 11\n",
            "最大值： 0\n",
            "按行计算均值： [12.5  8.5  4.5]\n",
            "均值： 8.5\n",
            "均值： 8.5\n",
            "中位数： 8.5\n",
            "[ 14  27  39  50  60  69  77  84  90  95  99 102]\n",
            "查找非零元素： (array([0, 0, 0, 0, 1, 1, 1, 1, 2, 2, 2, 2]), array([0, 1, 2, 3, 0, 1, 2, 3, 0, 1, 2, 3]))\n",
            "排序： [[11 12 13 14]\n",
            " [ 7  8  9 10]\n",
            " [ 3  4  5  6]]\n",
            "转置： [[14 10  6]\n",
            " [13  9  5]\n",
            " [12  8  4]\n",
            " [11  7  3]]\n",
            "转置： [[14 10  6]\n",
            " [13  9  5]\n",
            " [12  8  4]\n",
            " [11  7  3]]\n",
            "转置并做矩阵乘法： [[332 302 272 242]\n",
            " [302 275 248 221]\n",
            " [272 248 224 200]\n",
            " [242 221 200 179]]\n",
            "[[9 9 9 9]\n",
            " [9 9 8 7]\n",
            " [6 5 5 5]]\n"
          ],
          "name": "stdout"
        }
      ]
    },
    {
      "cell_type": "code",
      "metadata": {
        "id": "_ZIDuSTk19d9",
        "colab_type": "code",
        "colab": {
          "base_uri": "https://localhost:8080/",
          "height": 118
        },
        "outputId": "0298d043-e6ca-4074-bae6-cc590bea6dbb"
      },
      "source": [
        "arr_8 = np.arange(3,15).reshape((3,4))\n",
        "print(arr_8)\n",
        "print('矩阵的第二行的数：',arr_8[2])   #python从0开始计数\n",
        "print('两种索引写法：',arr_8[2][1], arr_8[2,1])\n",
        "print('第一列所有数：', arr_8[:,1])    "
      ],
      "execution_count": 149,
      "outputs": [
        {
          "output_type": "stream",
          "text": [
            "[[ 3  4  5  6]\n",
            " [ 7  8  9 10]\n",
            " [11 12 13 14]]\n",
            "矩阵的第二行的数： [11 12 13 14]\n",
            "两种索引写法： 12 12\n",
            "第一列所有数： [ 4  8 12]\n"
          ],
          "name": "stdout"
        }
      ]
    },
    {
      "cell_type": "code",
      "metadata": {
        "id": "KcckFCaT3B4G",
        "colab_type": "code",
        "colab": {
          "base_uri": "https://localhost:8080/",
          "height": 67
        },
        "outputId": "367263ed-cefa-48d2-865d-d9bfc6804617"
      },
      "source": [
        "for row in arr_8:\n",
        "  print(row)"
      ],
      "execution_count": 150,
      "outputs": [
        {
          "output_type": "stream",
          "text": [
            "[3 4 5 6]\n",
            "[ 7  8  9 10]\n",
            "[11 12 13 14]\n"
          ],
          "name": "stdout"
        }
      ]
    },
    {
      "cell_type": "markdown",
      "metadata": {
        "id": "7LXjtG5X3LbY",
        "colab_type": "text"
      },
      "source": [
        "按行迭代"
      ]
    },
    {
      "cell_type": "code",
      "metadata": {
        "id": "ZRy3RJF23QVz",
        "colab_type": "code",
        "colab": {
          "base_uri": "https://localhost:8080/",
          "height": 84
        },
        "outputId": "d01e6cc6-533d-4e02-c81b-009fa2b2e960"
      },
      "source": [
        "for column in arr_8.T:\n",
        "  print(column)"
      ],
      "execution_count": 151,
      "outputs": [
        {
          "output_type": "stream",
          "text": [
            "[ 3  7 11]\n",
            "[ 4  8 12]\n",
            "[ 5  9 13]\n",
            "[ 6 10 14]\n"
          ],
          "name": "stdout"
        }
      ]
    },
    {
      "cell_type": "markdown",
      "metadata": {
        "id": "Qq284LWv3Zge",
        "colab_type": "text"
      },
      "source": [
        "通过转置的方式进行按列迭代"
      ]
    },
    {
      "cell_type": "code",
      "metadata": {
        "id": "ncii1dex3g5R",
        "colab_type": "code",
        "colab": {
          "base_uri": "https://localhost:8080/",
          "height": 235
        },
        "outputId": "d96cec36-5a74-4c27-d727-42523d097330"
      },
      "source": [
        "print(arr_8.flatten())   #按行化为一维矩阵，并返回一个矩阵\n",
        "for item in arr_8.flat:\n",
        "  print(item)"
      ],
      "execution_count": 152,
      "outputs": [
        {
          "output_type": "stream",
          "text": [
            "[ 3  4  5  6  7  8  9 10 11 12 13 14]\n",
            "3\n",
            "4\n",
            "5\n",
            "6\n",
            "7\n",
            "8\n",
            "9\n",
            "10\n",
            "11\n",
            "12\n",
            "13\n",
            "14\n"
          ],
          "name": "stdout"
        }
      ]
    },
    {
      "cell_type": "code",
      "metadata": {
        "id": "JJ0fPQdC4FLN",
        "colab_type": "code",
        "colab": {}
      },
      "source": [
        "arr_9 = np.array([1,1,1])\n",
        "arr_10 = np.array([2,2,2])"
      ],
      "execution_count": 0,
      "outputs": []
    },
    {
      "cell_type": "code",
      "metadata": {
        "id": "j6Br1yet5Q_D",
        "colab_type": "code",
        "colab": {
          "base_uri": "https://localhost:8080/",
          "height": 84
        },
        "outputId": "8127cce1-9841-4eb0-bf5b-6c9ce27fe20f"
      },
      "source": [
        "vstack_arr = np.vstack((arr_9,arr_10))   #vertical stack 按行上下合并\n",
        "hstack_arr = np.hstack((arr_9,arr_10))   #horizontal stack 按列左右合并\n",
        "print(vstack_arr) \n",
        "print(hstack_arr) \n",
        "print(arr_9.shape, vstack_arr.shape, hstack_arr.shape)"
      ],
      "execution_count": 154,
      "outputs": [
        {
          "output_type": "stream",
          "text": [
            "[[1 1 1]\n",
            " [2 2 2]]\n",
            "[1 1 1 2 2 2]\n",
            "(3,) (2, 3) (6,)\n"
          ],
          "name": "stdout"
        }
      ]
    },
    {
      "cell_type": "markdown",
      "metadata": {
        "id": "Xggg2zrQ6Vh7",
        "colab_type": "text"
      },
      "source": [
        "vstack、hstack可多矩阵合并"
      ]
    },
    {
      "cell_type": "code",
      "metadata": {
        "id": "SNxPVtW95R-6",
        "colab_type": "code",
        "colab": {
          "base_uri": "https://localhost:8080/",
          "height": 84
        },
        "outputId": "0b11cb3d-b7fb-4098-9563-e0687293d803"
      },
      "source": [
        "print(arr_9[np.newaxis,:], arr_9[np.newaxis,:].shape)\n",
        "print(arr_9[:,np.newaxis], arr_9[:,np.newaxis].shape)"
      ],
      "execution_count": 155,
      "outputs": [
        {
          "output_type": "stream",
          "text": [
            "[[1 1 1]] (1, 3)\n",
            "[[1]\n",
            " [1]\n",
            " [1]] (3, 1)\n"
          ],
          "name": "stdout"
        }
      ]
    },
    {
      "cell_type": "code",
      "metadata": {
        "id": "Y4R4olr_52XN",
        "colab_type": "code",
        "colab": {
          "base_uri": "https://localhost:8080/",
          "height": 84
        },
        "outputId": "0191afcc-c25c-491c-e828-6cf6ffb34ceb"
      },
      "source": [
        "array_con = np.concatenate((arr_9,arr_9,arr_10))\n",
        "print(array_con)\n",
        "array_con_1 = np.concatenate((arr_9[:,np.newaxis],arr_9[:,np.newaxis],arr_10[:,np.newaxis]),axis=1)\n",
        "print(array_con_1)"
      ],
      "execution_count": 156,
      "outputs": [
        {
          "output_type": "stream",
          "text": [
            "[1 1 1 1 1 1 2 2 2]\n",
            "[[1 1 2]\n",
            " [1 1 2]\n",
            " [1 1 2]]\n"
          ],
          "name": "stdout"
        }
      ]
    },
    {
      "cell_type": "markdown",
      "metadata": {
        "id": "PAQbr_TO6_-6",
        "colab_type": "text"
      },
      "source": [
        "concatenta可以在后面直接设置以何种方式合并，默认左右合并"
      ]
    },
    {
      "cell_type": "code",
      "metadata": {
        "id": "cegkVd4s7MEg",
        "colab_type": "code",
        "colab": {
          "base_uri": "https://localhost:8080/",
          "height": 370
        },
        "outputId": "963f1a02-6f0b-42b9-f2a3-73fe372f78af"
      },
      "source": [
        "A = np.arange(12).reshape(3,4)\n",
        "print(A)\n",
        "print(np.split(A,2,axis=1))   #按列进行分割，每块两列\n",
        "print(np.array_split(A,3,axis=1)) #不等分割\n",
        "print(np.vsplit(A,3))  #按行分割\n",
        "print(np.hsplit(A,2))  #按列分割"
      ],
      "execution_count": 157,
      "outputs": [
        {
          "output_type": "stream",
          "text": [
            "[[ 0  1  2  3]\n",
            " [ 4  5  6  7]\n",
            " [ 8  9 10 11]]\n",
            "[array([[0, 1],\n",
            "       [4, 5],\n",
            "       [8, 9]]), array([[ 2,  3],\n",
            "       [ 6,  7],\n",
            "       [10, 11]])]\n",
            "[array([[0, 1],\n",
            "       [4, 5],\n",
            "       [8, 9]]), array([[ 2],\n",
            "       [ 6],\n",
            "       [10]]), array([[ 3],\n",
            "       [ 7],\n",
            "       [11]])]\n",
            "[array([[0, 1, 2, 3]]), array([[4, 5, 6, 7]]), array([[ 8,  9, 10, 11]])]\n",
            "[array([[0, 1],\n",
            "       [4, 5],\n",
            "       [8, 9]]), array([[ 2,  3],\n",
            "       [ 6,  7],\n",
            "       [10, 11]])]\n"
          ],
          "name": "stdout"
        }
      ]
    },
    {
      "cell_type": "code",
      "metadata": {
        "id": "L7N8hWgI9aR3",
        "colab_type": "code",
        "colab": {
          "base_uri": "https://localhost:8080/",
          "height": 84
        },
        "outputId": "8b81935c-c1c3-4870-eda0-86618fac5a34"
      },
      "source": [
        "B = np.arange(4)\n",
        "print(B)\n",
        "C = B\n",
        "D = B\n",
        "E = C\n",
        "B[0] = 11\n",
        "print(B,C,D,E)\n",
        "print(B is E)\n",
        "C[1:3] = [22,33]\n",
        "print(B,C,D,E)"
      ],
      "execution_count": 158,
      "outputs": [
        {
          "output_type": "stream",
          "text": [
            "[0 1 2 3]\n",
            "[11  1  2  3] [11  1  2  3] [11  1  2  3] [11  1  2  3]\n",
            "True\n",
            "[11 22 33  3] [11 22 33  3] [11 22 33  3] [11 22 33  3]\n"
          ],
          "name": "stdout"
        }
      ]
    },
    {
      "cell_type": "markdown",
      "metadata": {
        "id": "HaCdf2Dv-Dcc",
        "colab_type": "text"
      },
      "source": [
        "numpy中'='使得B、C、D、E是同一个东西，指向同一个地址，所以B改变了，所有的都改变了,称为浅copy"
      ]
    },
    {
      "cell_type": "code",
      "metadata": {
        "id": "N7PS5ju9-kfK",
        "colab_type": "code",
        "colab": {
          "base_uri": "https://localhost:8080/",
          "height": 50
        },
        "outputId": "052c5e30-1a47-4f38-ba4e-0a6b693979b4"
      },
      "source": [
        "C_1 = B.copy()\n",
        "print(C_1)\n",
        "B[0] = 100\n",
        "print(B,C_1)"
      ],
      "execution_count": 159,
      "outputs": [
        {
          "output_type": "stream",
          "text": [
            "[11 22 33  3]\n",
            "[100  22  33   3] [11 22 33  3]\n"
          ],
          "name": "stdout"
        }
      ]
    },
    {
      "cell_type": "markdown",
      "metadata": {
        "id": "r1GLeOjc-vMr",
        "colab_type": "text"
      },
      "source": [
        "深copy，B改变不会影响C_1"
      ]
    }
  ]
}