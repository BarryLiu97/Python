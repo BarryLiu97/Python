{
  "nbformat": 4,
  "nbformat_minor": 0,
  "metadata": {
    "colab": {
      "name": "pandas_exp.ipynb",
      "provenance": [],
      "collapsed_sections": [],
      "authorship_tag": "ABX9TyNGsYg+Odd6SVWgTP6anPNG",
      "include_colab_link": true
    },
    "kernelspec": {
      "name": "python3",
      "display_name": "Python 3"
    }
  },
  "cells": [
    {
      "cell_type": "markdown",
      "metadata": {
        "id": "view-in-github",
        "colab_type": "text"
      },
      "source": [
        "<a href=\"https://colab.research.google.com/github/BarryLiu-97/Python/blob/master/pandas_exp.ipynb\" target=\"_parent\"><img src=\"https://colab.research.google.com/assets/colab-badge.svg\" alt=\"Open In Colab\"/></a>"
      ]
    },
    {
      "cell_type": "code",
      "metadata": {
        "id": "OyZMEDOg_UUZ",
        "colab_type": "code",
        "colab": {}
      },
      "source": [
        "import pandas as pd"
      ],
      "execution_count": 0,
      "outputs": []
    },
    {
      "cell_type": "markdown",
      "metadata": {
        "id": "FOzVFkF5ZqUv",
        "colab_type": "text"
      },
      "source": [
        "导入pandas模块，类似于numpy的字典版"
      ]
    },
    {
      "cell_type": "code",
      "metadata": {
        "id": "npokjyZ8Z9gO",
        "colab_type": "code",
        "colab": {}
      },
      "source": [
        "import numpy as np"
      ],
      "execution_count": 0,
      "outputs": []
    },
    {
      "cell_type": "markdown",
      "metadata": {
        "id": "jL0BMftfaADn",
        "colab_type": "text"
      },
      "source": [
        "pandas与numpy经常一起使用"
      ]
    },
    {
      "cell_type": "code",
      "metadata": {
        "id": "NK_tBFU3aC_y",
        "colab_type": "code",
        "colab": {
          "base_uri": "https://localhost:8080/",
          "height": 134
        },
        "outputId": "b2cabb19-b775-4118-b907-4e8c7d45e654"
      },
      "source": [
        "s = pd.Series([1,3,6,np.nan,44,1])\n",
        "print(s)"
      ],
      "execution_count": 5,
      "outputs": [
        {
          "output_type": "stream",
          "text": [
            "0     1.0\n",
            "1     3.0\n",
            "2     6.0\n",
            "3     NaN\n",
            "4    44.0\n",
            "5     1.0\n",
            "dtype: float64\n"
          ],
          "name": "stdout"
        }
      ]
    },
    {
      "cell_type": "code",
      "metadata": {
        "id": "GhmBBkiDaVzB",
        "colab_type": "code",
        "colab": {
          "base_uri": "https://localhost:8080/",
          "height": 67
        },
        "outputId": "1cf99b3f-234d-45bf-c488-95e0a0e3c6d1"
      },
      "source": [
        "dates = pd.date_range('20200515',periods=6)\n",
        "print(dates)"
      ],
      "execution_count": 8,
      "outputs": [
        {
          "output_type": "stream",
          "text": [
            "DatetimeIndex(['2020-05-15', '2020-05-16', '2020-05-17', '2020-05-18',\n",
            "               '2020-05-19', '2020-05-20'],\n",
            "              dtype='datetime64[ns]', freq='D')\n"
          ],
          "name": "stdout"
        }
      ]
    },
    {
      "cell_type": "code",
      "metadata": {
        "id": "lYD3imRgaggr",
        "colab_type": "code",
        "colab": {
          "base_uri": "https://localhost:8080/",
          "height": 134
        },
        "outputId": "3cc0087b-9400-43e7-cbb0-5177f0f46474"
      },
      "source": [
        "df = pd.DataFrame(np.random.randn(6,4),index=dates,columns=['a','b','c','d'])\n",
        "print(df)"
      ],
      "execution_count": 11,
      "outputs": [
        {
          "output_type": "stream",
          "text": [
            "                   a         b         c         d\n",
            "2020-05-15  1.556668  1.261112 -1.180447 -1.021968\n",
            "2020-05-16 -2.863765 -1.027614 -1.006206 -0.197720\n",
            "2020-05-17 -1.250576 -0.179349 -1.055712 -0.399088\n",
            "2020-05-18 -1.442735 -0.593896 -2.221345 -0.448914\n",
            "2020-05-19  0.279004  0.019987  0.829631  2.379565\n",
            "2020-05-20  0.393627  2.419696 -0.239674  0.913715\n"
          ],
          "name": "stdout"
        }
      ]
    },
    {
      "cell_type": "markdown",
      "metadata": {
        "id": "uec4zOg7bG8X",
        "colab_type": "text"
      },
      "source": [
        "index为行名，columns为列名"
      ]
    },
    {
      "cell_type": "code",
      "metadata": {
        "id": "f8dM7GZwa5zc",
        "colab_type": "code",
        "colab": {
          "base_uri": "https://localhost:8080/",
          "height": 84
        },
        "outputId": "5c7887ab-b80a-464d-cc83-cce2a905fa2c"
      },
      "source": [
        "df_1 = pd.DataFrame(np.arange(12).reshape((3,4)))\n",
        "print(df_1)"
      ],
      "execution_count": 12,
      "outputs": [
        {
          "output_type": "stream",
          "text": [
            "   0  1   2   3\n",
            "0  0  1   2   3\n",
            "1  4  5   6   7\n",
            "2  8  9  10  11\n"
          ],
          "name": "stdout"
        }
      ]
    },
    {
      "cell_type": "markdown",
      "metadata": {
        "id": "CH4CzT8nbN05",
        "colab_type": "text"
      },
      "source": [
        "行和列的默认命名方式"
      ]
    },
    {
      "cell_type": "code",
      "metadata": {
        "id": "QwwHmiDybYAd",
        "colab_type": "code",
        "colab": {
          "base_uri": "https://localhost:8080/",
          "height": 319
        },
        "outputId": "e49b2229-acbd-4d92-b33c-c290ffa3e211"
      },
      "source": [
        "df_2 = pd.DataFrame({'A':1.,\n",
        "          'B':pd.Timestamp('20200515'),\n",
        "          'C':pd.Series(1,index=list(range(4)),dtype='float32'),\n",
        "          'D':np.array([3]*4,dtype='int32'),\n",
        "          'E':pd.Categorical([\"test\",\"train\",\"test\",\"train\"]),\n",
        "          'F':'foo'})\n",
        "print(df_2, '\\n' ,df_2.dtypes, '\\n' ,df_2.index, '\\n', df_2.columns, '\\n', df_2.values)"
      ],
      "execution_count": 19,
      "outputs": [
        {
          "output_type": "stream",
          "text": [
            "     A          B    C  D      E    F\n",
            "0  1.0 2020-05-15  1.0  3   test  foo\n",
            "1  1.0 2020-05-15  1.0  3  train  foo\n",
            "2  1.0 2020-05-15  1.0  3   test  foo\n",
            "3  1.0 2020-05-15  1.0  3  train  foo \n",
            " A           float64\n",
            "B    datetime64[ns]\n",
            "C           float32\n",
            "D             int32\n",
            "E          category\n",
            "F            object\n",
            "dtype: object \n",
            " Int64Index([0, 1, 2, 3], dtype='int64') \n",
            " Index(['A', 'B', 'C', 'D', 'E', 'F'], dtype='object') \n",
            " [[1.0 Timestamp('2020-05-15 00:00:00') 1.0 3 'test' 'foo']\n",
            " [1.0 Timestamp('2020-05-15 00:00:00') 1.0 3 'train' 'foo']\n",
            " [1.0 Timestamp('2020-05-15 00:00:00') 1.0 3 'test' 'foo']\n",
            " [1.0 Timestamp('2020-05-15 00:00:00') 1.0 3 'train' 'foo']]\n"
          ],
          "name": "stdout"
        }
      ]
    },
    {
      "cell_type": "markdown",
      "metadata": {
        "id": "Xb8xZ8pGc8of",
        "colab_type": "text"
      },
      "source": [
        "一列一列地输入数据来生成DataFrame"
      ]
    },
    {
      "cell_type": "code",
      "metadata": {
        "id": "UvjkGTy5dFaf",
        "colab_type": "code",
        "colab": {
          "base_uri": "https://localhost:8080/",
          "height": 168
        },
        "outputId": "0fa98439-c8a2-47aa-873c-e32357e99164"
      },
      "source": [
        "print(df_2.describe())"
      ],
      "execution_count": 21,
      "outputs": [
        {
          "output_type": "stream",
          "text": [
            "         A    C    D\n",
            "count  4.0  4.0  4.0\n",
            "mean   1.0  1.0  3.0\n",
            "std    0.0  0.0  0.0\n",
            "min    1.0  1.0  3.0\n",
            "25%    1.0  1.0  3.0\n",
            "50%    1.0  1.0  3.0\n",
            "75%    1.0  1.0  3.0\n",
            "max    1.0  1.0  3.0\n"
          ],
          "name": "stdout"
        }
      ]
    },
    {
      "cell_type": "markdown",
      "metadata": {
        "id": "NOjg_Wa_eAVU",
        "colab_type": "text"
      },
      "source": [
        "只会计算数值的相应值，所以B和E忽略"
      ]
    },
    {
      "cell_type": "code",
      "metadata": {
        "id": "6SIWKcjleNAe",
        "colab_type": "code",
        "colab": {
          "base_uri": "https://localhost:8080/",
          "height": 168
        },
        "outputId": "5b182ec2-c88c-413f-d86b-a626de51c370"
      },
      "source": [
        "print(df_2.T)"
      ],
      "execution_count": 22,
      "outputs": [
        {
          "output_type": "stream",
          "text": [
            "                     0  ...                    3\n",
            "A                    1  ...                    1\n",
            "B  2020-05-15 00:00:00  ...  2020-05-15 00:00:00\n",
            "C                    1  ...                    1\n",
            "D                    3  ...                    3\n",
            "E                 test  ...                train\n",
            "F                  foo  ...                  foo\n",
            "\n",
            "[6 rows x 4 columns]\n"
          ],
          "name": "stdout"
        }
      ]
    },
    {
      "cell_type": "code",
      "metadata": {
        "id": "9fMXw6NneRoX",
        "colab_type": "code",
        "colab": {
          "base_uri": "https://localhost:8080/",
          "height": 185
        },
        "outputId": "a0833e49-2e96-415f-83a8-63feff91278b"
      },
      "source": [
        "print(df_2.sort_index(axis=1,ascending=False))\n",
        "print(df_2.sort_index(axis=0,ascending=False))"
      ],
      "execution_count": 24,
      "outputs": [
        {
          "output_type": "stream",
          "text": [
            "     F      E  D    C          B    A\n",
            "0  foo   test  3  1.0 2020-05-15  1.0\n",
            "1  foo  train  3  1.0 2020-05-15  1.0\n",
            "2  foo   test  3  1.0 2020-05-15  1.0\n",
            "3  foo  train  3  1.0 2020-05-15  1.0\n",
            "     A          B    C  D      E    F\n",
            "3  1.0 2020-05-15  1.0  3  train  foo\n",
            "2  1.0 2020-05-15  1.0  3   test  foo\n",
            "1  1.0 2020-05-15  1.0  3  train  foo\n",
            "0  1.0 2020-05-15  1.0  3   test  foo\n"
          ],
          "name": "stdout"
        }
      ]
    },
    {
      "cell_type": "markdown",
      "metadata": {
        "id": "G0myjFWYedqG",
        "colab_type": "text"
      },
      "source": [
        "axis=1则对A、B、C、D、E、F进行排序，axis=0则对0、1、2、3进行排序，ascending=False表示倒序\n"
      ]
    },
    {
      "cell_type": "code",
      "metadata": {
        "id": "9RsPK6n5e6ML",
        "colab_type": "code",
        "colab": {
          "base_uri": "https://localhost:8080/",
          "height": 101
        },
        "outputId": "e97e9f02-5869-455c-f0d2-4114725ada42"
      },
      "source": [
        "print(df_2.sort_values(by='E'))"
      ],
      "execution_count": 25,
      "outputs": [
        {
          "output_type": "stream",
          "text": [
            "     A          B    C  D      E    F\n",
            "0  1.0 2020-05-15  1.0  3   test  foo\n",
            "2  1.0 2020-05-15  1.0  3   test  foo\n",
            "1  1.0 2020-05-15  1.0  3  train  foo\n",
            "3  1.0 2020-05-15  1.0  3  train  foo\n"
          ],
          "name": "stdout"
        }
      ]
    },
    {
      "cell_type": "markdown",
      "metadata": {
        "id": "n7tqn49AfFtj",
        "colab_type": "text"
      },
      "source": [
        "对E列的值进行排序"
      ]
    },
    {
      "cell_type": "code",
      "metadata": {
        "id": "12iKwlVrfO8l",
        "colab_type": "code",
        "colab": {
          "base_uri": "https://localhost:8080/",
          "height": 134
        },
        "outputId": "198fa5d4-f011-4889-8d99-b5062782cf24"
      },
      "source": [
        "df_3 = pd.DataFrame(np.arange(24).reshape((6,4)),index=dates,columns=['A','B','C','D'])\n",
        "print(df_3)"
      ],
      "execution_count": 26,
      "outputs": [
        {
          "output_type": "stream",
          "text": [
            "             A   B   C   D\n",
            "2020-05-15   0   1   2   3\n",
            "2020-05-16   4   5   6   7\n",
            "2020-05-17   8   9  10  11\n",
            "2020-05-18  12  13  14  15\n",
            "2020-05-19  16  17  18  19\n",
            "2020-05-20  20  21  22  23\n"
          ],
          "name": "stdout"
        }
      ]
    },
    {
      "cell_type": "code",
      "metadata": {
        "id": "1EWDO7FijCMI",
        "colab_type": "code",
        "colab": {
          "base_uri": "https://localhost:8080/",
          "height": 252
        },
        "outputId": "5b53f3b2-9e87-4614-fa2f-393b63975cba"
      },
      "source": [
        "print(df_3[['A','B']])\n",
        "print(df_3.A)"
      ],
      "execution_count": 37,
      "outputs": [
        {
          "output_type": "stream",
          "text": [
            "             A   B\n",
            "2020-05-15   0   1\n",
            "2020-05-16   4   5\n",
            "2020-05-17   8   9\n",
            "2020-05-18  12  13\n",
            "2020-05-19  16  17\n",
            "2020-05-20  20  21\n",
            "2020-05-15     0\n",
            "2020-05-16     4\n",
            "2020-05-17     8\n",
            "2020-05-18    12\n",
            "2020-05-19    16\n",
            "2020-05-20    20\n",
            "Freq: D, Name: A, dtype: int64\n"
          ],
          "name": "stdout"
        }
      ]
    },
    {
      "cell_type": "code",
      "metadata": {
        "id": "lOuf6ujFjNwK",
        "colab_type": "code",
        "colab": {
          "base_uri": "https://localhost:8080/",
          "height": 168
        },
        "outputId": "404bf66e-52a7-4d63-ee31-dea7c13ab4c2"
      },
      "source": [
        "print(df_3[0:3])\n",
        "print(df_3['20200515':'20200518'])"
      ],
      "execution_count": 28,
      "outputs": [
        {
          "output_type": "stream",
          "text": [
            "            A  B   C   D\n",
            "2020-05-15  0  1   2   3\n",
            "2020-05-16  4  5   6   7\n",
            "2020-05-17  8  9  10  11\n",
            "             A   B   C   D\n",
            "2020-05-15   0   1   2   3\n",
            "2020-05-16   4   5   6   7\n",
            "2020-05-17   8   9  10  11\n",
            "2020-05-18  12  13  14  15\n"
          ],
          "name": "stdout"
        }
      ]
    },
    {
      "cell_type": "code",
      "metadata": {
        "id": "ZwxDRoC3jkho",
        "colab_type": "code",
        "colab": {
          "base_uri": "https://localhost:8080/",
          "height": 218
        },
        "outputId": "365ed45e-ab25-4fb1-a3b1-f11d086fa86f"
      },
      "source": [
        "print(df_3.loc['20200516'])\n",
        "print(df_3.loc[:,['A','B']])"
      ],
      "execution_count": 43,
      "outputs": [
        {
          "output_type": "stream",
          "text": [
            "A    4\n",
            "B    5\n",
            "C    6\n",
            "D    7\n",
            "Name: 2020-05-16 00:00:00, dtype: int64\n",
            "             A   B\n",
            "2020-05-15   0   1\n",
            "2020-05-16   4   5\n",
            "2020-05-17   8   9\n",
            "2020-05-18  12  13\n",
            "2020-05-19  16  17\n",
            "2020-05-20  20  21\n"
          ],
          "name": "stdout"
        }
      ]
    },
    {
      "cell_type": "markdown",
      "metadata": {
        "id": "yV0buR0rkr7j",
        "colab_type": "text"
      },
      "source": [
        "使用行名列名进行索引"
      ]
    },
    {
      "cell_type": "code",
      "metadata": {
        "id": "gLxE8Khtk0GX",
        "colab_type": "code",
        "colab": {
          "base_uri": "https://localhost:8080/",
          "height": 134
        },
        "outputId": "2c45faea-1dd2-460f-879d-56c33c76094a"
      },
      "source": [
        "print(df_3.iloc[3:5,1:3])\n",
        "print(df_3.iloc[[1,3,5],1:3])"
      ],
      "execution_count": 46,
      "outputs": [
        {
          "output_type": "stream",
          "text": [
            "             B   C\n",
            "2020-05-18  13  14\n",
            "2020-05-19  17  18\n",
            "             B   C\n",
            "2020-05-16   5   6\n",
            "2020-05-18  13  14\n",
            "2020-05-20  21  22\n"
          ],
          "name": "stdout"
        }
      ]
    },
    {
      "cell_type": "markdown",
      "metadata": {
        "id": "rR8EqSmSlDuo",
        "colab_type": "text"
      },
      "source": [
        "使用位置进行索引"
      ]
    },
    {
      "cell_type": "markdown",
      "metadata": {
        "id": "xOEIYINOmEnI",
        "colab_type": "text"
      },
      "source": [
        "自pandas 1.0.0已经删除DataFrame.ix的索引方式"
      ]
    },
    {
      "cell_type": "code",
      "metadata": {
        "id": "8iQnHPaClF9C",
        "colab_type": "code",
        "colab": {
          "base_uri": "https://localhost:8080/",
          "height": 84
        },
        "outputId": "c620c38e-9830-4fda-ccfa-5d263da23957"
      },
      "source": [
        "print(df_3[df_3.A>8])"
      ],
      "execution_count": 54,
      "outputs": [
        {
          "output_type": "stream",
          "text": [
            "             A   B   C   D\n",
            "2020-05-18  12  13  14  15\n",
            "2020-05-19  16  17  18  19\n",
            "2020-05-20  20  21  22  23\n"
          ],
          "name": "stdout"
        }
      ]
    },
    {
      "cell_type": "markdown",
      "metadata": {
        "id": "6Dd4Z9eJmg72",
        "colab_type": "text"
      },
      "source": [
        "找出A列元素值大于8的DataFrame"
      ]
    },
    {
      "cell_type": "code",
      "metadata": {
        "id": "CLoqeSjzoAYL",
        "colab_type": "code",
        "colab": {
          "base_uri": "https://localhost:8080/",
          "height": 252
        },
        "outputId": "4ebb89d3-b97a-4e64-f542-1bc3baf12a97"
      },
      "source": [
        "df_3.iloc[2,2] = 111\n",
        "print(df_3)\n",
        "df_3.loc['20200515','B'] = 222\n",
        "print(df_3)"
      ],
      "execution_count": 56,
      "outputs": [
        {
          "output_type": "stream",
          "text": [
            "             A   B    C   D\n",
            "2020-05-15   0   1    2   3\n",
            "2020-05-16   4   5    6   7\n",
            "2020-05-17   8   9  111  11\n",
            "2020-05-18  12  13   14  15\n",
            "2020-05-19  16  17   18  19\n",
            "2020-05-20  20  21   22  23\n",
            "             A    B    C   D\n",
            "2020-05-15   0  222    2   3\n",
            "2020-05-16   4    5    6   7\n",
            "2020-05-17   8    9  111  11\n",
            "2020-05-18  12   13   14  15\n",
            "2020-05-19  16   17   18  19\n",
            "2020-05-20  20   21   22  23\n"
          ],
          "name": "stdout"
        }
      ]
    },
    {
      "cell_type": "code",
      "metadata": {
        "id": "JetH80WzoT8n",
        "colab_type": "code",
        "colab": {
          "base_uri": "https://localhost:8080/",
          "height": 370
        },
        "outputId": "a8079f9e-0e32-44f1-9705-28974b5dcd83"
      },
      "source": [
        "df_3[df_3.A>4] = 0\n",
        "print(df_3)\n",
        "df_3 = pd.DataFrame(np.arange(24).reshape((6,4)),index=dates,columns=['A','B','C','D'])\n",
        "df_3.A[df_3.A>4] = 0\n",
        "print(df_3)\n",
        "df_3['F'] = np.nan\n",
        "print(df_3)"
      ],
      "execution_count": 60,
      "outputs": [
        {
          "output_type": "stream",
          "text": [
            "            A   B   C   D\n",
            "2020-05-15  0   1   2   3\n",
            "2020-05-16  4   5   6   7\n",
            "2020-05-17  0   9  10  11\n",
            "2020-05-18  0  13  14  15\n",
            "2020-05-19  0  17  18  19\n",
            "2020-05-20  0  21  22  23\n",
            "            A   B   C   D\n",
            "2020-05-15  0   1   2   3\n",
            "2020-05-16  4   5   6   7\n",
            "2020-05-17  0   9  10  11\n",
            "2020-05-18  0  13  14  15\n",
            "2020-05-19  0  17  18  19\n",
            "2020-05-20  0  21  22  23\n",
            "            A   B   C   D   F\n",
            "2020-05-15  0   1   2   3 NaN\n",
            "2020-05-16  4   5   6   7 NaN\n",
            "2020-05-17  0   9  10  11 NaN\n",
            "2020-05-18  0  13  14  15 NaN\n",
            "2020-05-19  0  17  18  19 NaN\n",
            "2020-05-20  0  21  22  23 NaN\n"
          ],
          "name": "stdout"
        }
      ]
    },
    {
      "cell_type": "markdown",
      "metadata": {
        "id": "rzi0Fmdcpjul",
        "colab_type": "text"
      },
      "source": [
        "添加空的列"
      ]
    },
    {
      "cell_type": "code",
      "metadata": {
        "id": "QCC2hX-Go8qx",
        "colab_type": "code",
        "colab": {
          "base_uri": "https://localhost:8080/",
          "height": 134
        },
        "outputId": "5392e6c1-2dcc-40ce-a9f5-21d1568ecf21"
      },
      "source": [
        "df_3['E'] = pd.Series([1,2,3,4,5,6],index=pd.date_range('20200515',periods=6))\n",
        "print(df_3)"
      ],
      "execution_count": 61,
      "outputs": [
        {
          "output_type": "stream",
          "text": [
            "            A   B   C   D   F  E\n",
            "2020-05-15  0   1   2   3 NaN  1\n",
            "2020-05-16  4   5   6   7 NaN  2\n",
            "2020-05-17  0   9  10  11 NaN  3\n",
            "2020-05-18  0  13  14  15 NaN  4\n",
            "2020-05-19  0  17  18  19 NaN  5\n",
            "2020-05-20  0  21  22  23 NaN  6\n"
          ],
          "name": "stdout"
        }
      ]
    },
    {
      "cell_type": "markdown",
      "metadata": {
        "id": "HxlSmbGNpeWY",
        "colab_type": "text"
      },
      "source": [
        "预先定义好要添加的列"
      ]
    },
    {
      "cell_type": "code",
      "metadata": {
        "id": "oZo5KbSFpqEi",
        "colab_type": "code",
        "colab": {
          "base_uri": "https://localhost:8080/",
          "height": 252
        },
        "outputId": "f2ce42f7-9b9b-4e2d-d62c-fbbbf6879dc7"
      },
      "source": [
        "df_3 = pd.DataFrame(np.arange(24).reshape((6,4)),index=dates,columns=['A','B','C','D'])\n",
        "print(df_3)\n",
        "df_3.iloc[0,1] = np.nan\n",
        "df_3.iloc[1,2] = np.nan\n",
        "print(df_3)"
      ],
      "execution_count": 63,
      "outputs": [
        {
          "output_type": "stream",
          "text": [
            "             A   B   C   D\n",
            "2020-05-15   0   1   2   3\n",
            "2020-05-16   4   5   6   7\n",
            "2020-05-17   8   9  10  11\n",
            "2020-05-18  12  13  14  15\n",
            "2020-05-19  16  17  18  19\n",
            "2020-05-20  20  21  22  23\n",
            "             A     B     C   D\n",
            "2020-05-15   0   NaN   2.0   3\n",
            "2020-05-16   4   5.0   NaN   7\n",
            "2020-05-17   8   9.0  10.0  11\n",
            "2020-05-18  12  13.0  14.0  15\n",
            "2020-05-19  16  17.0  18.0  19\n",
            "2020-05-20  20  21.0  22.0  23\n"
          ],
          "name": "stdout"
        }
      ]
    },
    {
      "cell_type": "code",
      "metadata": {
        "id": "agMm5sj8qFtc",
        "colab_type": "code",
        "colab": {
          "base_uri": "https://localhost:8080/",
          "height": 101
        },
        "outputId": "a7401f5b-d141-45e3-c35f-4422f9769fc9"
      },
      "source": [
        "print(df_3.dropna(axis=0,how='any')) # how = {'any','all'}"
      ],
      "execution_count": 64,
      "outputs": [
        {
          "output_type": "stream",
          "text": [
            "             A     B     C   D\n",
            "2020-05-17   8   9.0  10.0  11\n",
            "2020-05-18  12  13.0  14.0  15\n",
            "2020-05-19  16  17.0  18.0  19\n",
            "2020-05-20  20  21.0  22.0  23\n"
          ],
          "name": "stdout"
        }
      ]
    },
    {
      "cell_type": "markdown",
      "metadata": {
        "id": "0dUz8Ef3qUWR",
        "colab_type": "text"
      },
      "source": [
        "axis=0表示按行丢弃，axis=1表示按列丢弃\n",
        "any表示有一个非数就全部删除，all表示全部非数才丢掉"
      ]
    },
    {
      "cell_type": "code",
      "metadata": {
        "id": "4exGzheiqvBA",
        "colab_type": "code",
        "colab": {
          "base_uri": "https://localhost:8080/",
          "height": 134
        },
        "outputId": "ad392679-6242-4ee8-e003-9f5ffa9a97e0"
      },
      "source": [
        "print(df_3.fillna(value=0))"
      ],
      "execution_count": 68,
      "outputs": [
        {
          "output_type": "stream",
          "text": [
            "             A     B     C   D\n",
            "2020-05-15   0   0.0   2.0   3\n",
            "2020-05-16   4   5.0   0.0   7\n",
            "2020-05-17   8   9.0  10.0  11\n",
            "2020-05-18  12  13.0  14.0  15\n",
            "2020-05-19  16  17.0  18.0  19\n",
            "2020-05-20  20  21.0  22.0  23\n"
          ],
          "name": "stdout"
        }
      ]
    },
    {
      "cell_type": "markdown",
      "metadata": {
        "id": "5nrYFinxrV99",
        "colab_type": "text"
      },
      "source": [
        "非数部分填充为0"
      ]
    },
    {
      "cell_type": "code",
      "metadata": {
        "id": "IFDf-bt9rY5z",
        "colab_type": "code",
        "colab": {
          "base_uri": "https://localhost:8080/",
          "height": 151
        },
        "outputId": "f9de66db-0267-4ea0-b357-4b23a8618d74"
      },
      "source": [
        "print(df_3.isnull())\n",
        "print(np.any(df_3.isnull()) == True)"
      ],
      "execution_count": 75,
      "outputs": [
        {
          "output_type": "stream",
          "text": [
            "                A      B      C      D\n",
            "2020-05-15  False   True  False  False\n",
            "2020-05-16  False  False   True  False\n",
            "2020-05-17  False  False  False  False\n",
            "2020-05-18  False  False  False  False\n",
            "2020-05-19  False  False  False  False\n",
            "2020-05-20  False  False  False  False\n",
            "True\n"
          ],
          "name": "stdout"
        }
      ]
    },
    {
      "cell_type": "markdown",
      "metadata": {
        "id": "UORDdKT1rghN",
        "colab_type": "text"
      },
      "source": [
        "查找是否有缺失的数据"
      ]
    },
    {
      "cell_type": "code",
      "metadata": {
        "id": "FFMpwCfysPBy",
        "colab_type": "code",
        "colab": {}
      },
      "source": [
        "data = pd.read_csv('test.csv')\n",
        "print(data)\n",
        "data.to_pickle('test_2.pickle')"
      ],
      "execution_count": 0,
      "outputs": []
    },
    {
      "cell_type": "markdown",
      "metadata": {
        "id": "dT5Fh35vsWrW",
        "colab_type": "text"
      },
      "source": [
        "也可以读取txt"
      ]
    },
    {
      "cell_type": "code",
      "metadata": {
        "id": "XHzJ3mXPta6j",
        "colab_type": "code",
        "colab": {
          "base_uri": "https://localhost:8080/",
          "height": 218
        },
        "outputId": "f8e30ad2-353f-4502-9090-dc4bfd394d9f"
      },
      "source": [
        "df_4 = pd.DataFrame(np.ones((3,4))*0,columns=['a','b','c','d'])\n",
        "df_5 = pd.DataFrame(np.ones((3,4))*1,columns=['a','b','c','d'])\n",
        "df_6 = pd.DataFrame(np.ones((3,4))*2,columns=['a','b','c','d'])\n",
        "print(df_4)\n",
        "print(df_5)\n",
        "print(df_6)"
      ],
      "execution_count": 94,
      "outputs": [
        {
          "output_type": "stream",
          "text": [
            "     a    b    c    d\n",
            "0  0.0  0.0  0.0  0.0\n",
            "1  0.0  0.0  0.0  0.0\n",
            "2  0.0  0.0  0.0  0.0\n",
            "     a    b    c    d\n",
            "0  1.0  1.0  1.0  1.0\n",
            "1  1.0  1.0  1.0  1.0\n",
            "2  1.0  1.0  1.0  1.0\n",
            "     a    b    c    d\n",
            "0  2.0  2.0  2.0  2.0\n",
            "1  2.0  2.0  2.0  2.0\n",
            "2  2.0  2.0  2.0  2.0\n"
          ],
          "name": "stdout"
        }
      ]
    },
    {
      "cell_type": "code",
      "metadata": {
        "id": "r1ux2oteuQMi",
        "colab_type": "code",
        "colab": {
          "base_uri": "https://localhost:8080/",
          "height": 185
        },
        "outputId": "5235131a-54a5-44c2-a94e-5db148f20a50"
      },
      "source": [
        "res_1 = pd.concat([df_4,df_5,df_6],axis=0)\n",
        "print(res_1)"
      ],
      "execution_count": 80,
      "outputs": [
        {
          "output_type": "stream",
          "text": [
            "     a    b    c    d\n",
            "0  0.0  0.0  0.0  0.0\n",
            "1  0.0  0.0  0.0  0.0\n",
            "2  0.0  0.0  0.0  0.0\n",
            "0  1.0  1.0  1.0  1.0\n",
            "1  1.0  1.0  1.0  1.0\n",
            "2  1.0  1.0  1.0  1.0\n",
            "0  2.0  2.0  2.0  2.0\n",
            "1  2.0  2.0  2.0  2.0\n",
            "2  2.0  2.0  2.0  2.0\n"
          ],
          "name": "stdout"
        }
      ]
    },
    {
      "cell_type": "markdown",
      "metadata": {
        "id": "gI0QyF2juSay",
        "colab_type": "text"
      },
      "source": [
        "axis=0竖向合并 axis=1横向合并   此处可见行名没变"
      ]
    },
    {
      "cell_type": "code",
      "metadata": {
        "id": "9rWHRXkQupXi",
        "colab_type": "code",
        "colab": {
          "base_uri": "https://localhost:8080/",
          "height": 185
        },
        "outputId": "07f97cc8-3eba-4fff-af38-b3d7401aaea5"
      },
      "source": [
        "res_1 = pd.concat([df_4,df_5,df_6],axis=0, ignore_index = True)\n",
        "print(res_1)"
      ],
      "execution_count": 84,
      "outputs": [
        {
          "output_type": "stream",
          "text": [
            "     a    b    c    d\n",
            "0  0.0  0.0  0.0  0.0\n",
            "1  0.0  0.0  0.0  0.0\n",
            "2  0.0  0.0  0.0  0.0\n",
            "3  1.0  1.0  1.0  1.0\n",
            "4  1.0  1.0  1.0  1.0\n",
            "5  1.0  1.0  1.0  1.0\n",
            "6  2.0  2.0  2.0  2.0\n",
            "7  2.0  2.0  2.0  2.0\n",
            "8  2.0  2.0  2.0  2.0\n"
          ],
          "name": "stdout"
        }
      ]
    },
    {
      "cell_type": "code",
      "metadata": {
        "id": "qLp4NyZBveF8",
        "colab_type": "code",
        "colab": {
          "base_uri": "https://localhost:8080/",
          "height": 84
        },
        "outputId": "680f04a3-4f3b-4d9e-eab1-cfc225618e72"
      },
      "source": [
        "df_7 = pd.DataFrame(np.ones((3,4))*1,columns=['b','c','d','e'])\n",
        "print(df_7)"
      ],
      "execution_count": 89,
      "outputs": [
        {
          "output_type": "stream",
          "text": [
            "     b    c    d    e\n",
            "0  1.0  1.0  1.0  1.0\n",
            "1  1.0  1.0  1.0  1.0\n",
            "2  1.0  1.0  1.0  1.0\n"
          ],
          "name": "stdout"
        }
      ]
    },
    {
      "cell_type": "code",
      "metadata": {
        "id": "Y5Eomd3Hv5Fb",
        "colab_type": "code",
        "colab": {
          "base_uri": "https://localhost:8080/",
          "height": 134
        },
        "outputId": "dbe4b0cc-37d1-4176-9634-a2b98186ebde"
      },
      "source": [
        "res_2 = pd.concat([df_4,df_7])\n",
        "print(res_2)"
      ],
      "execution_count": 90,
      "outputs": [
        {
          "output_type": "stream",
          "text": [
            "     a    b    c    d    e\n",
            "0  0.0  0.0  0.0  0.0  NaN\n",
            "1  0.0  0.0  0.0  0.0  NaN\n",
            "2  0.0  0.0  0.0  0.0  NaN\n",
            "0  NaN  1.0  1.0  1.0  1.0\n",
            "1  NaN  1.0  1.0  1.0  1.0\n",
            "2  NaN  1.0  1.0  1.0  1.0\n"
          ],
          "name": "stdout"
        }
      ]
    },
    {
      "cell_type": "markdown",
      "metadata": {
        "id": "cqjSewP4wJWa",
        "colab_type": "text"
      },
      "source": [
        "默认的join模式：'outer'"
      ]
    },
    {
      "cell_type": "code",
      "metadata": {
        "id": "gbd9bEl8wOkq",
        "colab_type": "code",
        "colab": {
          "base_uri": "https://localhost:8080/",
          "height": 134
        },
        "outputId": "31118175-54b7-4114-acaa-d6c800ac5676"
      },
      "source": [
        "res_3 = pd.concat([df_4,df_7],join='inner',ignore_index=True)\n",
        "print(res_3)"
      ],
      "execution_count": 93,
      "outputs": [
        {
          "output_type": "stream",
          "text": [
            "     b    c    d\n",
            "0  0.0  0.0  0.0\n",
            "1  0.0  0.0  0.0\n",
            "2  0.0  0.0  0.0\n",
            "3  1.0  1.0  1.0\n",
            "4  1.0  1.0  1.0\n",
            "5  1.0  1.0  1.0\n"
          ],
          "name": "stdout"
        }
      ]
    },
    {
      "cell_type": "markdown",
      "metadata": {
        "id": "aIruUf5Uwanu",
        "colab_type": "text"
      },
      "source": [
        "只保留相同部分"
      ]
    },
    {
      "cell_type": "code",
      "metadata": {
        "id": "-O2GMA1lweXX",
        "colab_type": "code",
        "colab": {}
      },
      "source": [
        "df_8 = pd.DataFrame(np.ones((3,4))*0,columns=['a','b','c','d'],index=[1,2,3])\n",
        "df_9 = pd.DataFrame(np.ones((3,4))*1,columns=['a','b','c','d'],index=[2,3,4])\n",
        "res_4 = pd.concat([df_8,df_9],axis=1,join_axes=[df_8.index])\n",
        "print(res_4)"
      ],
      "execution_count": 0,
      "outputs": []
    },
    {
      "cell_type": "markdown",
      "metadata": {
        "id": "s92aTTEJyCla",
        "colab_type": "text"
      },
      "source": [
        "join_axes已过期"
      ]
    },
    {
      "cell_type": "code",
      "metadata": {
        "id": "JF_O7hFayNqj",
        "colab_type": "code",
        "colab": {
          "base_uri": "https://localhost:8080/",
          "height": 185
        },
        "outputId": "ad0afab3-b9e4-4ea2-9e3f-96cca3325526"
      },
      "source": [
        "res_5 = df_4.append([df_5,df_5],ignore_index=True)\n",
        "print(res_5)"
      ],
      "execution_count": 100,
      "outputs": [
        {
          "output_type": "stream",
          "text": [
            "     a    b    c    d\n",
            "0  0.0  0.0  0.0  0.0\n",
            "1  0.0  0.0  0.0  0.0\n",
            "2  0.0  0.0  0.0  0.0\n",
            "3  1.0  1.0  1.0  1.0\n",
            "4  1.0  1.0  1.0  1.0\n",
            "5  1.0  1.0  1.0  1.0\n",
            "6  1.0  1.0  1.0  1.0\n",
            "7  1.0  1.0  1.0  1.0\n",
            "8  1.0  1.0  1.0  1.0\n"
          ],
          "name": "stdout"
        }
      ]
    },
    {
      "cell_type": "code",
      "metadata": {
        "id": "oTwPRdF5y1nP",
        "colab_type": "code",
        "colab": {
          "base_uri": "https://localhost:8080/",
          "height": 101
        },
        "outputId": "3a6a4ff5-4250-4f0b-fdf9-39b5a3bb4b1a"
      },
      "source": [
        "s1 = pd.Series([1,2,3,4],index=['a','b','c','d'])\n",
        "res_6 = df_4.append(s1,ignore_index=True)\n",
        "print(res_6)"
      ],
      "execution_count": 104,
      "outputs": [
        {
          "output_type": "stream",
          "text": [
            "     a    b    c    d\n",
            "0  0.0  0.0  0.0  0.0\n",
            "1  0.0  0.0  0.0  0.0\n",
            "2  0.0  0.0  0.0  0.0\n",
            "3  1.0  2.0  3.0  4.0\n"
          ],
          "name": "stdout"
        }
      ]
    },
    {
      "cell_type": "markdown",
      "metadata": {
        "id": "z4ZDrrYAzneh",
        "colab_type": "text"
      },
      "source": [
        "一条数据一条数据添加"
      ]
    },
    {
      "cell_type": "code",
      "metadata": {
        "id": "-xdaJknc88d0",
        "colab_type": "code",
        "colab": {
          "base_uri": "https://localhost:8080/",
          "height": 185
        },
        "outputId": "952d1bff-f48f-49cb-ca28-01d544406b27"
      },
      "source": [
        "left = pd.DataFrame({'key':['K0','K1','K2','K3'],\n",
        "            'A':['A0','A1','A2','A3'],\n",
        "            'B':['B0','B1','B2','B3']})\n",
        "right = pd.DataFrame({'key':['K0','K1','K2','K3'],\n",
        "            'C':['C0','C1','C2','C3'],\n",
        "            'D':['D0','D1','D2','D3']})\n",
        "print(left)\n",
        "print(right)"
      ],
      "execution_count": 106,
      "outputs": [
        {
          "output_type": "stream",
          "text": [
            "  key   A   B\n",
            "0  K0  A0  B0\n",
            "1  K1  A1  B1\n",
            "2  K2  A2  B2\n",
            "3  K3  A3  B3\n",
            "  key   C   D\n",
            "0  K0  C0  D0\n",
            "1  K1  C1  D1\n",
            "2  K2  C2  D2\n",
            "3  K3  C3  D3\n"
          ],
          "name": "stdout"
        }
      ]
    },
    {
      "cell_type": "code",
      "metadata": {
        "id": "S0JHbmBnHCgR",
        "colab_type": "code",
        "colab": {
          "base_uri": "https://localhost:8080/",
          "height": 101
        },
        "outputId": "52c001b1-e232-4a8a-ddc2-d12e2a564604"
      },
      "source": [
        "res_7 = pd.merge(left,right,on='key')\n",
        "print(res_7)"
      ],
      "execution_count": 107,
      "outputs": [
        {
          "output_type": "stream",
          "text": [
            "  key   A   B   C   D\n",
            "0  K0  A0  B0  C0  D0\n",
            "1  K1  A1  B1  C1  D1\n",
            "2  K2  A2  B2  C2  D2\n",
            "3  K3  A3  B3  C3  D3\n"
          ],
          "name": "stdout"
        }
      ]
    },
    {
      "cell_type": "code",
      "metadata": {
        "id": "o6uO0KDIHSXg",
        "colab_type": "code",
        "colab": {
          "base_uri": "https://localhost:8080/",
          "height": 185
        },
        "outputId": "a16f2130-74ee-40d7-db51-337164948840"
      },
      "source": [
        "left_1 = pd.DataFrame({'key1':['K0','K0','K1','K2'],\n",
        "             'key2':['K0','K1','K0','K1'],\n",
        "             'A':['A0','A1','A2','A3'],\n",
        "             'B':['B0','B1','B2','B3']})\n",
        "right_1 = pd.DataFrame({'key1':['K0','K1','K1','K2'],\n",
        "             'key2':['K0','K0','K0','K0'],\n",
        "             'C':['C0','C1','C2','C3'],\n",
        "             'D':['D0','D1','D2','D3']})\n",
        "print(left_1)\n",
        "print(right_1)"
      ],
      "execution_count": 108,
      "outputs": [
        {
          "output_type": "stream",
          "text": [
            "  key1 key2   A   B\n",
            "0   K0   K0  A0  B0\n",
            "1   K0   K1  A1  B1\n",
            "2   K1   K0  A2  B2\n",
            "3   K2   K1  A3  B3\n",
            "  key1 key2   C   D\n",
            "0   K0   K0  C0  D0\n",
            "1   K1   K0  C1  D1\n",
            "2   K1   K0  C2  D2\n",
            "3   K2   K0  C3  D3\n"
          ],
          "name": "stdout"
        }
      ]
    },
    {
      "cell_type": "code",
      "metadata": {
        "id": "x2S0_YwlIEhQ",
        "colab_type": "code",
        "colab": {
          "base_uri": "https://localhost:8080/",
          "height": 84
        },
        "outputId": "b8ec3987-d6d2-4a8e-a476-56c4dd0d1461"
      },
      "source": [
        "res_8 = pd.merge(left_1,right_1,on=['key1','key2'])\n",
        "print(res_8)"
      ],
      "execution_count": 115,
      "outputs": [
        {
          "output_type": "stream",
          "text": [
            "  key1 key2   A   B   C   D\n",
            "0   K0   K0  A0  B0  C0  D0\n",
            "1   K1   K0  A2  B2  C1  D1\n",
            "2   K1   K0  A2  B2  C2  D2\n"
          ],
          "name": "stdout"
        }
      ]
    },
    {
      "cell_type": "markdown",
      "metadata": {
        "id": "M_s01rIGJ95s",
        "colab_type": "text"
      },
      "source": [
        "merge默认是inner，只考虑共有的部分\n",
        "how = ['left','right','outer','inner']\n",
        "若将参数indicator设置为True可显示以何种方式合并，如left only, both"
      ]
    },
    {
      "cell_type": "code",
      "metadata": {
        "id": "F8Z6Z1MGKIqq",
        "colab_type": "code",
        "colab": {
          "base_uri": "https://localhost:8080/",
          "height": 151
        },
        "outputId": "d361481a-084e-41f2-ddad-206777f8410b"
      },
      "source": [
        "left_2 = pd.DataFrame({'A': ['A0', 'A1', 'A2'],\n",
        "            'B': ['B0', 'B1', 'B2']},\n",
        "            index=['K0', 'K1', 'K2'])\n",
        "right_2 = pd.DataFrame({'C': ['C0', 'C2', 'C3'],\n",
        "            'D': ['D0', 'D2', 'D3']},\n",
        "            index=['K0', 'K2', 'K3'])\n",
        "print(left_2)\n",
        "print(right_2)"
      ],
      "execution_count": 117,
      "outputs": [
        {
          "output_type": "stream",
          "text": [
            "     A   B\n",
            "K0  A0  B0\n",
            "K1  A1  B1\n",
            "K2  A2  B2\n",
            "     C   D\n",
            "K0  C0  D0\n",
            "K2  C2  D2\n",
            "K3  C3  D3\n"
          ],
          "name": "stdout"
        }
      ]
    },
    {
      "cell_type": "code",
      "metadata": {
        "id": "z6GH-zJgNhhg",
        "colab_type": "code",
        "colab": {
          "base_uri": "https://localhost:8080/",
          "height": 101
        },
        "outputId": "733c649e-014e-4c2e-c2c0-15a9cae46af4"
      },
      "source": [
        "res_9 = pd.merge(left_2,right_2,left_index=True,right_index=True,how='outer')\n",
        "print(res_9)"
      ],
      "execution_count": 118,
      "outputs": [
        {
          "output_type": "stream",
          "text": [
            "      A    B    C    D\n",
            "K0   A0   B0   C0   D0\n",
            "K1   A1   B1  NaN  NaN\n",
            "K2   A2   B2   C2   D2\n",
            "K3  NaN  NaN   C3   D3\n"
          ],
          "name": "stdout"
        }
      ]
    },
    {
      "cell_type": "markdown",
      "metadata": {
        "id": "LvyU-Qf3OCMu",
        "colab_type": "text"
      },
      "source": [
        "以index为参照进行合并，而不是column"
      ]
    },
    {
      "cell_type": "code",
      "metadata": {
        "id": "dG5msUcEN6MC",
        "colab_type": "code",
        "colab": {
          "base_uri": "https://localhost:8080/",
          "height": 67
        },
        "outputId": "11c48838-ba1e-48cd-bbe7-2c8bb28b5ea3"
      },
      "source": [
        "res_10 = pd.merge(left_2,right_2,left_index=True,right_index=True,how='inner')\n",
        "print(res_10)"
      ],
      "execution_count": 119,
      "outputs": [
        {
          "output_type": "stream",
          "text": [
            "     A   B   C   D\n",
            "K0  A0  B0  C0  D0\n",
            "K2  A2  B2  C2  D2\n"
          ],
          "name": "stdout"
        }
      ]
    },
    {
      "cell_type": "code",
      "metadata": {
        "id": "G-Agg8daOKIc",
        "colab_type": "code",
        "colab": {
          "base_uri": "https://localhost:8080/",
          "height": 252
        },
        "outputId": "05ea4a8c-9ce4-4620-9561-c8a051edfea3"
      },
      "source": [
        "boys = pd.DataFrame({'k': ['K0', 'K1', 'K2'], 'age': [1, 2, 3]})\n",
        "girls = pd.DataFrame({'k': ['K0', 'K0', 'K3'], 'age': [4, 5, 6]})\n",
        "print(boys)\n",
        "print(girls)\n",
        "res_x = pd.merge(boys,girls,on='k',suffixes=['_boys','_girls'],how='outer')\n",
        "print(res_x)"
      ],
      "execution_count": 120,
      "outputs": [
        {
          "output_type": "stream",
          "text": [
            "    k  age\n",
            "0  K0    1\n",
            "1  K1    2\n",
            "2  K2    3\n",
            "    k  age\n",
            "0  K0    4\n",
            "1  K0    5\n",
            "2  K3    6\n",
            "    k  age_boys  age_girls\n",
            "0  K0       1.0        4.0\n",
            "1  K0       1.0        5.0\n",
            "2  K1       2.0        NaN\n",
            "3  K2       3.0        NaN\n",
            "4  K3       NaN        6.0\n"
          ],
          "name": "stdout"
        }
      ]
    },
    {
      "cell_type": "code",
      "metadata": {
        "id": "y0Lh3tXqO7h2",
        "colab_type": "code",
        "colab": {
          "base_uri": "https://localhost:8080/",
          "height": 282
        },
        "outputId": "983b59eb-9141-4455-d237-87e3c33ae3ac"
      },
      "source": [
        "import matplotlib.pyplot as plt\n",
        "data = pd.Series(np.random.randn(1000),index=np.arange(1000))\n",
        "data = data.cumsum()\n",
        "data.plot()\n",
        "plt.show"
      ],
      "execution_count": 121,
      "outputs": [
        {
          "output_type": "execute_result",
          "data": {
            "text/plain": [
              "<function matplotlib.pyplot.show>"
            ]
          },
          "metadata": {
            "tags": []
          },
          "execution_count": 121
        },
        {
          "output_type": "display_data",
          "data": {
            "image/png": "[encoded data removed]",
            "text/plain": [
              "<Figure size 432x288 with 1 Axes>"
            ]
          },
          "metadata": {
            "tags": [],
            "needs_background": "light"
          }
        }
      ]
    },
    {
      "cell_type": "code",
      "metadata": {
        "id": "Wlbq-XU8PbFZ",
        "colab_type": "code",
        "colab": {
          "base_uri": "https://localhost:8080/",
          "height": 368
        },
        "outputId": "d5947b9b-695c-4a94-a81e-13f339fcaf8a"
      },
      "source": [
        "data_2 = pd.DataFrame(np.random.randn(1000,4),\n",
        "            index=np.arange(1000),\n",
        "            columns=list(\"ABCD\"))\n",
        "data_2 = data_2.cumsum()\n",
        "print(data_2.head())\n",
        "data_2.plot()\n",
        "plt.show()"
      ],
      "execution_count": 124,
      "outputs": [
        {
          "output_type": "stream",
          "text": [
            "          A         B         C         D\n",
            "0  1.794202  0.427483  0.160880 -0.240897\n",
            "1 -0.688942 -1.428203 -2.475727  1.436183\n",
            "2 -0.786826 -1.801730 -1.724973  0.357130\n",
            "3  0.105257 -2.289716 -2.716860 -0.172215\n",
            "4 -0.697202 -2.388529 -3.613735  0.927451\n"
          ],
          "name": "stdout"
        },
        {
          "output_type": "display_data",
          "data": {
            "image/png": "[encoded data removed]",
            "text/plain": [
              "<Figure size 432x288 with 1 Axes>"
            ]
          },
          "metadata": {
            "tags": [],
            "needs_background": "light"
          }
        }
      ]
    },
    {
      "cell_type": "code",
      "metadata": {
        "id": "ZtZ2QzTsQOz6",
        "colab_type": "code",
        "colab": {
          "base_uri": "https://localhost:8080/",
          "height": 281
        },
        "outputId": "1a1ff49d-43a2-430a-826d-426ecbd9eaea"
      },
      "source": [
        "ax = data_2.plot.scatter(x='A',y='B',color='DarkBlue',label='Class 1')\n",
        "data_2.plot.scatter(x='A',y='C',color='DarkGreen',label='Class 2', ax=ax)  #ax=ax使得一张画布上可以画两组scatter\n",
        "plt.show()"
      ],
      "execution_count": 125,
      "outputs": [
        {
          "output_type": "display_data",
          "data": {
            "image/png": "[encoded data removed]",
            "text/plain": [
              "<Figure size 432x288 with 1 Axes>"
            ]
          },
          "metadata": {
            "tags": [],
            "needs_background": "light"
          }
        }
      ]
    },
    {
      "cell_type": "markdown",
      "metadata": {
        "id": "FxCJbq-tQTZS",
        "colab_type": "text"
      },
      "source": [
        "plot method: 'bar', 'box', 'kde', 'area', 'scatter', 'hexbin', 'pie' "
      ]
    }
  ]
}