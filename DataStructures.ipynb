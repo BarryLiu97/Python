{
 "cells": [
  {
   "cell_type": "markdown",
   "id": "dd988539-d570-451e-a260-37e2e52f59e7",
   "metadata": {},
   "source": [
    "# 数据类型"
   ]
  },
  {
   "cell_type": "markdown",
   "id": "780f3fad-1351-4f11-924c-10738148ae9a",
   "metadata": {},
   "source": [
    "## Number(数值)"
   ]
  },
  {
   "cell_type": "code",
   "execution_count": null,
   "id": "e7b0c4fb-213a-4cf0-b40f-31ddf9d82922",
   "metadata": {},
   "outputs": [],
   "source": []
  },
  {
   "cell_type": "markdown",
   "id": "63853b31-78cf-4374-8f9e-e9cc69668636",
   "metadata": {},
   "source": [
    "## String(字符串)"
   ]
  },
  {
   "cell_type": "code",
   "execution_count": null,
   "id": "48d67517-534d-496c-9f27-7ab572492e77",
   "metadata": {},
   "outputs": [],
   "source": []
  },
  {
   "cell_type": "markdown",
   "id": "7654442b-9c8d-4452-bd3a-48030bc31853",
   "metadata": {},
   "source": [
    "## List(列表)"
   ]
  },
  {
   "cell_type": "code",
   "execution_count": null,
   "id": "99645f82-3463-4be3-abaa-24701b067350",
   "metadata": {},
   "outputs": [],
   "source": []
  },
  {
   "cell_type": "markdown",
   "id": "77e81f4a-18fa-4b09-aed5-16974affd318",
   "metadata": {},
   "source": [
    "## Tuple(元组)"
   ]
  },
  {
   "cell_type": "code",
   "execution_count": null,
   "id": "5edba11e-70b8-46bc-842c-2958eaff842d",
   "metadata": {},
   "outputs": [],
   "source": []
  },
  {
   "cell_type": "markdown",
   "id": "c59a5f02-c03c-4ac6-a9bb-76a87047cc20",
   "metadata": {},
   "source": [
    "## Set(集合)"
   ]
  },
  {
   "cell_type": "code",
   "execution_count": null,
   "id": "973138f0-4184-41c9-af28-e39b05b6d9f2",
   "metadata": {},
   "outputs": [],
   "source": []
  },
  {
   "cell_type": "markdown",
   "id": "286f31c0-ba28-477a-a926-fb6b22b80999",
   "metadata": {},
   "source": [
    "## Dictionary(字典)"
   ]
  },
  {
   "cell_type": "code",
   "execution_count": 5,
   "id": "48f546f6-00f3-4e68-a626-26e6b002a4bc",
   "metadata": {},
   "outputs": [
    {
     "name": "stdout",
     "output_type": "stream",
     "text": [
      "{'jack': 4098, 'sape': 4139}\n",
      "{'jack': 4098, 'sape': 4139, 'guido': 4127}\n"
     ]
    }
   ],
   "source": [
    "# 字典赋值\n",
    "tel = {'jack': 4098, 'sape': 4139}\n",
    "print(tel)\n",
    "tel['guido'] = 4127\n",
    "print(tel)"
   ]
  },
  {
   "cell_type": "code",
   "execution_count": 6,
   "id": "2c25af05-a163-4ac7-ad52-8b7c4b9f9b16",
   "metadata": {},
   "outputs": [
    {
     "name": "stdout",
     "output_type": "stream",
     "text": [
      "{'jack': 4098, 'guido': 4127}\n"
     ]
    }
   ],
   "source": [
    "# 删除字典元素\n",
    "del tel['sape']\n",
    "print(tel)"
   ]
  },
  {
   "cell_type": "code",
   "execution_count": 9,
   "id": "ef6439b3-fa4b-445e-b2ee-7d3e51583199",
   "metadata": {},
   "outputs": [
    {
     "name": "stdout",
     "output_type": "stream",
     "text": [
      "['jack', 'guido']\n"
     ]
    }
   ],
   "source": [
    "print(list(tel))"
   ]
  },
  {
   "cell_type": "code",
   "execution_count": 10,
   "id": "7467d76a-8dd6-4b30-828b-669fe0795e1f",
   "metadata": {},
   "outputs": [
    {
     "name": "stdout",
     "output_type": "stream",
     "text": [
      "['guido', 'jack']\n"
     ]
    }
   ],
   "source": [
    "# 对键进行排序\n",
    "print(sorted(tel))"
   ]
  },
  {
   "cell_type": "code",
   "execution_count": 12,
   "id": "79c1dc44-503c-4ca0-8af4-dc3b65156ed3",
   "metadata": {},
   "outputs": [
    {
     "data": {
      "text/plain": [
       "{'sape': 4139, 'guido': 4127, 'jack': 4098}"
      ]
     },
     "execution_count": 12,
     "metadata": {},
     "output_type": "execute_result"
    }
   ],
   "source": [
    "# 直接用键值对序列创建字典\n",
    "dict([('sape', 4139), ('guido', 4127), ('jack', 4098)])"
   ]
  },
  {
   "cell_type": "code",
   "execution_count": 13,
   "id": "4e846b52-efb1-4be5-96a6-c7766ebac802",
   "metadata": {},
   "outputs": [
    {
     "data": {
      "text/plain": [
       "{2: 4, 4: 16, 6: 36}"
      ]
     },
     "execution_count": 13,
     "metadata": {},
     "output_type": "execute_result"
    }
   ],
   "source": [
    "# 字典推导式\n",
    "{x: x**2 for x in (2, 4, 6)}"
   ]
  },
  {
   "cell_type": "code",
   "execution_count": 20,
   "id": "ed520c63-6f76-4cc0-b67a-756300c656b7",
   "metadata": {},
   "outputs": [
    {
     "name": "stdout",
     "output_type": "stream",
     "text": [
      "gallahad    the pure\n",
      "robin    the brave\n"
     ]
    }
   ],
   "source": [
    "# 用 items() 方法可同时取出键和对应的值\n",
    "knights = {'gallahad': 'the pure', 'robin': 'the brave'}\n",
    "for k, v in knights.items():\n",
    "    print(k, '  ', v)"
   ]
  },
  {
   "cell_type": "code",
   "execution_count": 21,
   "id": "0bd19dcd-a957-4800-b580-d736e2c32009",
   "metadata": {},
   "outputs": [
    {
     "name": "stdout",
     "output_type": "stream",
     "text": [
      "0: gallahad\n",
      "1: robin\n"
     ]
    }
   ],
   "source": [
    "# 用 enumerate() 函数可以同时取出位置索引和对应的值\n",
    "for idx, value in enumerate(knights):\n",
    "    print(str(idx) + ': ' + str(value))"
   ]
  },
  {
   "cell_type": "code",
   "execution_count": 24,
   "id": "e2ef065b-fe46-4029-9030-ddd7d80e00f2",
   "metadata": {},
   "outputs": [
    {
     "name": "stdout",
     "output_type": "stream",
     "text": [
      "What is your name?  It is lancelot.\n",
      "What is your quest?  It is the holy grail.\n",
      "What is your favorite color?  It is blue.\n"
     ]
    }
   ],
   "source": [
    "# 同时循环两个或多个序列时，用 zip() 函数可以将其内的元素一一匹配：\n",
    "questions = ['name', 'quest', 'favorite color']\n",
    "answers = ['lancelot', 'the holy grail', 'blue']\n",
    "for q, a in zip(questions, answers):\n",
    "    print('What is your {0}?  It is {1}.'.format(q, a))"
   ]
  },
  {
   "cell_type": "code",
   "execution_count": 26,
   "id": "273cec3c-eb58-4888-874e-9dd04fce011b",
   "metadata": {},
   "outputs": [
    {
     "name": "stdout",
     "output_type": "stream",
     "text": [
      "{'name': 'lancelot', 'quest': 'the holy grail', 'favorite color': 'blue'}\n"
     ]
    }
   ],
   "source": [
    "# 用zip生成字典\n",
    "questions = ['name', 'quest', 'favorite color']\n",
    "answers = ['lancelot', 'the holy grail', 'blue']\n",
    "new_dict = dict(zip(questions, answers))\n",
    "print(new_dict)"
   ]
  },
  {
   "cell_type": "code",
   "execution_count": 28,
   "id": "a6f4409a-82f1-440a-9645-bebbea2172ca",
   "metadata": {},
   "outputs": [
    {
     "name": "stdout",
     "output_type": "stream",
     "text": [
      "apple\n",
      "banana\n",
      "orange\n",
      "pear\n"
     ]
    }
   ],
   "source": [
    "# 使用 set()去除序列中的重复元素。使用 sorted() 加 set() 则按排序后的顺序，循环遍历序列中的唯一元素\n",
    "basket = ['apple', 'orange', 'apple', 'pear', 'orange', 'banana']\n",
    "for f in sorted(set(basket)):\n",
    "    print(f)"
   ]
  },
  {
   "cell_type": "markdown",
   "id": "28d21c0f-9104-4e95-a902-9e9329005cc2",
   "metadata": {},
   "source": [
    "### 字典的增删改查"
   ]
  },
  {
   "cell_type": "code",
   "execution_count": 33,
   "id": "f226f596-216e-4121-828f-bc80a0a7053a",
   "metadata": {},
   "outputs": [
    {
     "name": "stdout",
     "output_type": "stream",
     "text": [
      "{'jack': 4098, 'sape': 4139}\n",
      "{'jack': 4098, 'sape': 4139, 'guido': 4127}\n"
     ]
    }
   ],
   "source": [
    "tel = {'jack': 4098, 'sape': 4139}\n",
    "print(tel)\n",
    "\n",
    "# 增\n",
    "tel['guido'] = 4127\n",
    "print(tel)"
   ]
  },
  {
   "cell_type": "code",
   "execution_count": 34,
   "id": "86bf85aa-1634-432b-9aa6-cf18823cd2f0",
   "metadata": {},
   "outputs": [
    {
     "name": "stdout",
     "output_type": "stream",
     "text": [
      "{'jack': 4098, 'sape': 4139}\n",
      "{'sape': 4139}\n"
     ]
    }
   ],
   "source": [
    "# 删除\n",
    "del tel['guido']\n",
    "print(tel)\n",
    "\n",
    "tel.pop('jack')\n",
    "print(tel)"
   ]
  },
  {
   "cell_type": "code",
   "execution_count": 35,
   "id": "6ecf6d87-3c05-4fd9-8605-ed527aa2bc72",
   "metadata": {},
   "outputs": [
    {
     "name": "stdout",
     "output_type": "stream",
     "text": [
      "{'jack': 4098, 'sape': 4139, 'guido': 4127}\n"
     ]
    }
   ],
   "source": [
    "tel = {'jack': 4098, 'sape': 4139, 'guido': 4127}\n",
    "print(tel)"
   ]
  },
  {
   "cell_type": "code",
   "execution_count": 5,
   "id": "acc95a9b-e235-49f9-829d-97722fe9bda4",
   "metadata": {},
   "outputs": [
    {
     "name": "stdout",
     "output_type": "stream",
     "text": [
      "{'name': 'wade', 'age': '33', 'work': 'basketplayer'}\n"
     ]
    }
   ],
   "source": [
    "# 改\n",
    "info ={'name':'jamnes','age':'32','work':'basketplayer'}\n",
    "info2 = {'name':'wade','age':'33','work':'basketplayer'}\n",
    "info.update(info2)\n",
    "print(info)"
   ]
  },
  {
   "cell_type": "code",
   "execution_count": 6,
   "id": "8f2fd772-f399-4351-98d5-90f270a34822",
   "metadata": {},
   "outputs": [
    {
     "name": "stdout",
     "output_type": "stream",
     "text": [
      "4098\n",
      "None\n"
     ]
    }
   ],
   "source": [
    "# 查找\n",
    "# 通过给定的key，查找对应的value，如果给定的可以在字典中无，则返回None\n",
    "tel = {'jack': 4098, 'sape': 4139, 'guido': 4127}\n",
    "result = tel.get('jack')\n",
    "print(result)\n",
    "\n",
    "result2 = tel.get('mary')\n",
    "print(result2)"
   ]
  },
  {
   "cell_type": "code",
   "execution_count": 14,
   "id": "2cdc13f5-936b-4d3c-91dc-bf73943b8169",
   "metadata": {},
   "outputs": [
    {
     "name": "stdout",
     "output_type": "stream",
     "text": [
      "dict_keys(['jack', 'sape', 'guido']) <class 'dict_keys'>\n",
      "dict_values([4098, 4139, 4127]) <class 'dict_values'>\n",
      "dict_items([('jack', 4098), ('sape', 4139), ('guido', 4127)]) <class 'dict_items'>\n"
     ]
    }
   ],
   "source": [
    "# keys():以列表（list）返回字典中的所有键（key）\n",
    "# 字典是无序的，返回的不是定义字典的顺序\n",
    "\n",
    "# values():以列表（list）返回字典中的所有值\n",
    "# 列表的顺序跟keys()返回的列表顺序一一对应\n",
    "\n",
    "# items():返回可遍历的(键, 值) 元组数组\n",
    "# 包含了dictionary的所有数据\n",
    "tel = {'jack': 4098, 'sape': 4139, 'guido': 4127}\n",
    "keys = tel.keys()\n",
    "values = tel.values()\n",
    "items = tel.items()\n",
    "print(keys, type(keys))\n",
    "print(values, type(values))\n",
    "print(items, type(items))"
   ]
  },
  {
   "cell_type": "code",
   "execution_count": 17,
   "id": "2f91bc6d-5c57-45d8-b57e-5cd8e09dd0a5",
   "metadata": {},
   "outputs": [
    {
     "name": "stdout",
     "output_type": "stream",
     "text": [
      "jack: 4098\n",
      "sape: 4139\n",
      "guido: 4127\n"
     ]
    }
   ],
   "source": [
    "# 对于items一般遍历加拆包\n",
    "for key, value in tel.items():\n",
    "    print(key + ': ' + str(value))"
   ]
  }
 ],
 "metadata": {
  "kernelspec": {
   "display_name": "Python 3.8 (XPython)",
   "language": "python",
   "name": "xpython"
  },
  "language_info": {
   "file_extension": ".py",
   "mimetype": "text/x-python",
   "name": "python",
   "version": "3.8.10"
  },
  "widgets": {
   "application/vnd.jupyter.widget-state+json": {
    "state": {},
    "version_major": 2,
    "version_minor": 0
   }
  }
 },
 "nbformat": 4,
 "nbformat_minor": 5
}
